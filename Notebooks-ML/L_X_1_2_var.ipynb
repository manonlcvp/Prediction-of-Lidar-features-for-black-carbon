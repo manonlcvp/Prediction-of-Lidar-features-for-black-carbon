{
 "cells": [
  {
   "cell_type": "markdown",
   "id": "b94d8f33",
   "metadata": {},
   "source": [
    "# L_X_1_2_var : prédiciotn des données physiques target à l'aide d'une ou 2 variables "
   ]
  },
  {
   "cell_type": "markdown",
   "id": "e2d84f5a",
   "metadata": {},
   "source": [
    "#### Librairies "
   ]
  },
  {
   "cell_type": "code",
   "execution_count": 1,
   "id": "cdb53712",
   "metadata": {},
   "outputs": [],
   "source": [
    "import pandas as pd\n",
    "import seaborn as sns\n",
    "from sklearn.preprocessing import StandardScaler\n",
    "\n",
    "from sklearn.model_selection import train_test_split\n",
    "from sklearn.model_selection import GridSearchCV\n",
    "import numpy as np\n",
    "\n",
    "\n",
    "from sklearn.svm import SVR\n",
    "from sklearn.ensemble import RandomForestRegressor\n",
    "from sklearn.ensemble import GradientBoostingRegressor\n",
    "from sklearn.metrics import mean_squared_error\n",
    "from sklearn.kernel_ridge import KernelRidge\n",
    "from sklearn.metrics import mean_absolute_error, max_error, mean_absolute_percentage_error\n",
    "\n",
    "import math\n",
    "\n",
    "from xgboost import XGBRegressor\n",
    "from sklearn.neural_network import MLPRegressor\n",
    "\n",
    "from sklearn.preprocessing import PowerTransformer\n",
    "import h5py\n",
    "from keras.models import load_model\n",
    "\n",
    "import matplotlib.pyplot as plt\n",
    "import seaborn as sns"
   ]
  },
  {
   "cell_type": "markdown",
   "id": "1f797e4b",
   "metadata": {},
   "source": [
    "#### Données "
   ]
  },
  {
   "cell_type": "code",
   "execution_count": 195,
   "id": "17aa9f9b",
   "metadata": {},
   "outputs": [],
   "source": [
    "df = pd.read_excel('./df_cleaned.xlsx')"
   ]
  },
  {
   "cell_type": "code",
   "execution_count": 196,
   "id": "e8619070-f884-4b53-a9db-0f932092ba0f",
   "metadata": {},
   "outputs": [],
   "source": [
    "# changer les noms de scolonnes avec / \n",
    "\n",
    "# Renommer la colonne existante en 'density_bc (g/cm^3)'\n",
    "df = df.rename(columns={'density_bc (g/cm^3)':'density_bc (g cm^3)'})\n",
    "df = df.rename(columns={'density_organics (g/cm^3)':'density_organics (g cm^3)'})\n",
    "df = df.rename(columns={'mr_total/bc':'mr_total bc'})\n",
    "df = df.rename(columns={'mr_nonBC/BC':'mr_nonBC BC'})\n"
   ]
  },
  {
   "cell_type": "code",
   "execution_count": 197,
   "id": "530cd41d-25af-4d58-b942-e2ff743b661b",
   "metadata": {},
   "outputs": [],
   "source": [
    "X = df.iloc[:, 2:23]  # données particules\n",
    "Y = df.iloc[:,23:31]  # données optiques\n",
    "L = df.iloc[:, [0, 1] + list(range(31, df.shape[1]))]"
   ]
  },
  {
   "cell_type": "code",
   "execution_count": 198,
   "id": "2f97073e-5ccf-451f-abb7-8db5ef588075",
   "metadata": {},
   "outputs": [],
   "source": [
    "# Sélection des variables intéressantes \n",
    "variables = ['primary_particle_size (nm)', \n",
    "             'vol_equi_radius_outer (nm)', \n",
    "             'vol_equi_radius_inner (nm)', \n",
    "             'equi_mobility_dia (nm)',\n",
    "                \"mass_bc (g)\"]\n",
    "\n",
    "X = X[variables]"
   ]
  },
  {
   "cell_type": "markdown",
   "id": "5fa5abe8-7df0-4167-b640-25d5157421b7",
   "metadata": {},
   "source": [
    "**Normalisation des inputs :**"
   ]
  },
  {
   "cell_type": "code",
   "execution_count": 201,
   "id": "d03c6570",
   "metadata": {},
   "outputs": [],
   "source": [
    "from sklearn.preprocessing import StandardScaler\n",
    "scaler = StandardScaler()"
   ]
  },
  {
   "cell_type": "markdown",
   "id": "a8a16949",
   "metadata": {},
   "source": [
    "On prépare les échantillons d'entrainement et de test."
   ]
  },
  {
   "cell_type": "code",
   "execution_count": 191,
   "id": "5233f9be",
   "metadata": {},
   "outputs": [],
   "source": [
    "X_train, X_test, Y_train, Y_test = train_test_split(\n",
    "            L, X,\n",
    "            test_size=0.30,\n",
    "            random_state=10)\n",
    "\n",
    "pt = PowerTransformer(method='yeo-johnson')\n",
    "\n",
    "X_test=X_test.reset_index(drop=True)\n",
    "Y_test=Y_test.reset_index(drop=True)\n",
    "\n",
    "\n",
    "X_train_transformed = scaler.fit_transform(X_train)  #pt.fit_transform(X_train)\n",
    "X_test_transformed =  scaler.fit_transform(X_test)   #pt.transform(X_test)\n",
    "\n",
    "Y_train_transformed = pd.DataFrame(Y_train, columns=Y_train.columns)\n",
    "Y_test_transformed = pd.DataFrame(Y_test, columns=Y_test.columns)"
   ]
  },
  {
   "cell_type": "code",
   "execution_count": 192,
   "id": "eab7da7e",
   "metadata": {},
   "outputs": [
    {
     "name": "stdout",
     "output_type": "stream",
     "text": [
      "Index(['fractal_dimension', 'fraction_of_coating (%)', 'CR', 'BAE'], dtype='object')\n",
      "Index(['primary_particle_size (nm)', 'vol_equi_radius_outer (nm)',\n",
      "       'vol_equi_radius_inner (nm)', 'equi_mobility_dia (nm)', 'mass_bc (g)'],\n",
      "      dtype='object')\n"
     ]
    }
   ],
   "source": [
    "print(X_test.columns)\n",
    "print(Y_test.columns)"
   ]
  },
  {
   "cell_type": "markdown",
   "id": "3b646d31",
   "metadata": {},
   "source": [
    "## Prédiction de X à l'aide d'une seule variable de L"
   ]
  },
  {
   "cell_type": "markdown",
   "id": "982ab902",
   "metadata": {},
   "source": [
    "Dans cette partie on va créer autant de modèle que de variables dans L. Cela va nous permettre de savoir si les prédictions obtenues à partir d'une seule variable sont bonnes ou non. Si les résultats sont satisfaisants cela voudrait dire qu'il n'y aurait pas besoin d'autant de mesure dans L pour prédire les caractéristiques physiques du BC.  "
   ]
  },
  {
   "cell_type": "markdown",
   "id": "a122587f",
   "metadata": {},
   "source": [
    "On va entrainer 1 modèle par variable et comparer les prédictions obtenues à l'aide des métriques utilisées habituellement (R2 et MSE). On va également comparer les performances de 3 algorithmes dans cette taches : KRR, ANN et XGBoost. "
   ]
  },
  {
   "cell_type": "markdown",
   "id": "ff030f7d",
   "metadata": {},
   "source": [
    "### Avec KRR"
   ]
  },
  {
   "cell_type": "code",
   "execution_count": 156,
   "id": "96e5deb6",
   "metadata": {},
   "outputs": [
    {
     "name": "stdout",
     "output_type": "stream",
     "text": [
      "Testing column: fractal_dimension\n",
      "Testing column: fraction_of_coating (%)\n",
      "Testing column: CR\n",
      "Testing column: BAE\n",
      "                                  MSE      MAPE        R2\n",
      "Feature (L)                                              \n",
      "CR                       11617.445377  1.261599  0.246007\n",
      "BAE                      11647.922694  1.258296  0.244012\n",
      "fraction_of_coating (%)  13105.779589  1.607234  0.220304\n",
      "fractal_dimension        13879.199243  1.659689 -0.002108\n"
     ]
    }
   ],
   "source": [
    "from sklearn.kernel_ridge import KernelRidge\n",
    "from sklearn.metrics import mean_squared_error, mean_absolute_percentage_error, r2_score\n",
    "from sklearn.preprocessing import StandardScaler\n",
    "from sklearn.model_selection import train_test_split, GridSearchCV\n",
    "import pandas as pd\n",
    "\n",
    "# Paramètres pour GridSearchCV\n",
    "param_grid = {\n",
    "    'alpha': [0.1, 1, 10],           # Paramètre de régularisation\n",
    "    'kernel': ['linear', 'rbf'],     # Choix de noyaux\n",
    "    'gamma': [0.1, 1, 10]            # Paramètre pour le noyau 'rbf'\n",
    "}\n",
    "\n",
    "\n",
    "\n",
    "results = []\n",
    "best_models1 = {}\n",
    "\n",
    "# Boucle sur chaque colonne de L\n",
    "for i, col in enumerate(L.columns):\n",
    "    print(f\"Testing column: {col}\")\n",
    "    \n",
    "    # Extraire la colonne de L voulue pour l'entraînement\n",
    "    X_train_col = X_train_transformed[:, i].reshape(-1, 1)\n",
    "    X_test_col = X_test_transformed[:, i].reshape(-1, 1)\n",
    "    \n",
    "    # Boucle sur chaque paramètre de X\n",
    "    for j, target in enumerate(X.columns):\n",
    "        \n",
    "        krr = KernelRidge()\n",
    "        \n",
    "        # Configurer GridSearchCV\n",
    "        grid_search = GridSearchCV(\n",
    "            estimator=krr,\n",
    "            param_grid=param_grid,\n",
    "            cv=5,\n",
    "            scoring='neg_mean_squared_error',\n",
    "            n_jobs=-1\n",
    "        )\n",
    "        \n",
    "        grid_search.fit(X_train_col, Y_train.iloc[:, j])\n",
    "        \n",
    "        # Meilleur modèle\n",
    "        best_model = grid_search.best_estimator_\n",
    "        best_models1[(col,target)] = best_model\n",
    "        \n",
    "        y_pred = best_model.predict(X_test_col)\n",
    "        \n",
    "        # Calcul des métriques\n",
    "        mse = mean_squared_error(Y_test_transformed.iloc[:, j], y_pred)\n",
    "        mape = mean_absolute_percentage_error(Y_test_transformed.iloc[:, j], y_pred)\n",
    "        r2 = r2_score(Y_test_transformed.iloc[:, j], y_pred)\n",
    "        \n",
    "        # Stocker les résultats\n",
    "        results.append({\n",
    "            'Feature (L)': col,\n",
    "            'Target (X)': target,\n",
    "            'MSE': mse,\n",
    "            'MAPE': mape,\n",
    "            'R2': r2,\n",
    "            'Best Params': grid_search.best_params_\n",
    "        })\n",
    "        \n",
    "\n",
    "param_KRR = pd.DataFrame(results)\n",
    "\n",
    "# Afficher les performances moyennes par parametres Lidar\n",
    "performance_summary = param_KRR.groupby('Feature (L)')[['MSE', 'MAPE', 'R2']].mean().sort_values(by='MSE')\n",
    "print(performance_summary)"
   ]
  },
  {
   "cell_type": "markdown",
   "id": "8cfd1488",
   "metadata": {},
   "source": [
    "**Comparaison des résultats en fonction de la MSE**"
   ]
  },
  {
   "cell_type": "code",
   "execution_count": 158,
   "id": "27dcb31a",
   "metadata": {},
   "outputs": [
    {
     "name": "stdout",
     "output_type": "stream",
     "text": [
      "Meilleurs résultats de MSE par paramètre physique:\n"
     ]
    },
    {
     "data": {
      "text/html": [
       "<div>\n",
       "<style scoped>\n",
       "    .dataframe tbody tr th:only-of-type {\n",
       "        vertical-align: middle;\n",
       "    }\n",
       "\n",
       "    .dataframe tbody tr th {\n",
       "        vertical-align: top;\n",
       "    }\n",
       "\n",
       "    .dataframe thead th {\n",
       "        text-align: right;\n",
       "    }\n",
       "</style>\n",
       "<table border=\"1\" class=\"dataframe\">\n",
       "  <thead>\n",
       "    <tr style=\"text-align: right;\">\n",
       "      <th></th>\n",
       "      <th>Feature (L)</th>\n",
       "      <th>Target (X)</th>\n",
       "      <th>Best Params</th>\n",
       "      <th>MSE</th>\n",
       "    </tr>\n",
       "  </thead>\n",
       "  <tbody>\n",
       "    <tr>\n",
       "      <th>14</th>\n",
       "      <td>CR</td>\n",
       "      <td>mass_bc (g)</td>\n",
       "      <td>{'alpha': 1, 'gamma': 10, 'kernel': 'rbf'}</td>\n",
       "      <td>2.328840e-29</td>\n",
       "    </tr>\n",
       "    <tr>\n",
       "      <th>5</th>\n",
       "      <td>fraction_of_coating (%)</td>\n",
       "      <td>primary_particle_size (nm)</td>\n",
       "      <td>{'alpha': 0.1, 'gamma': 10, 'kernel': 'rbf'}</td>\n",
       "      <td>3.525752e-01</td>\n",
       "    </tr>\n",
       "    <tr>\n",
       "      <th>12</th>\n",
       "      <td>CR</td>\n",
       "      <td>vol_equi_radius_inner (nm)</td>\n",
       "      <td>{'alpha': 1, 'gamma': 10, 'kernel': 'rbf'}</td>\n",
       "      <td>1.032164e+03</td>\n",
       "    </tr>\n",
       "    <tr>\n",
       "      <th>11</th>\n",
       "      <td>CR</td>\n",
       "      <td>vol_equi_radius_outer (nm)</td>\n",
       "      <td>{'alpha': 1, 'gamma': 10, 'kernel': 'rbf'}</td>\n",
       "      <td>1.705515e+03</td>\n",
       "    </tr>\n",
       "    <tr>\n",
       "      <th>13</th>\n",
       "      <td>CR</td>\n",
       "      <td>equi_mobility_dia (nm)</td>\n",
       "      <td>{'alpha': 1, 'gamma': 10, 'kernel': 'rbf'}</td>\n",
       "      <td>5.534543e+04</td>\n",
       "    </tr>\n",
       "  </tbody>\n",
       "</table>\n",
       "</div>"
      ],
      "text/plain": [
       "                Feature (L)                  Target (X)  \\\n",
       "14                       CR                 mass_bc (g)   \n",
       "5   fraction_of_coating (%)  primary_particle_size (nm)   \n",
       "12                       CR  vol_equi_radius_inner (nm)   \n",
       "11                       CR  vol_equi_radius_outer (nm)   \n",
       "13                       CR      equi_mobility_dia (nm)   \n",
       "\n",
       "                                     Best Params           MSE  \n",
       "14    {'alpha': 1, 'gamma': 10, 'kernel': 'rbf'}  2.328840e-29  \n",
       "5   {'alpha': 0.1, 'gamma': 10, 'kernel': 'rbf'}  3.525752e-01  \n",
       "12    {'alpha': 1, 'gamma': 10, 'kernel': 'rbf'}  1.032164e+03  \n",
       "11    {'alpha': 1, 'gamma': 10, 'kernel': 'rbf'}  1.705515e+03  \n",
       "13    {'alpha': 1, 'gamma': 10, 'kernel': 'rbf'}  5.534543e+04  "
      ]
     },
     "metadata": {},
     "output_type": "display_data"
    }
   ],
   "source": [
    "from IPython.display import display\n",
    "\n",
    "# Trouver les meilleurs résultats pour chaque colonne cible (Y)\n",
    "best_results_by_target = param_KRR.loc[param_KRR.groupby('Target (X)')['MSE'].idxmin()]\n",
    "\n",
    "# Trier les résultats pour les visualiser clairement\n",
    "best_results_sortedMSE = best_results_by_target.sort_values(by='MSE')\n",
    "\n",
    "# Afficher le tableau formaté avec Pandas\n",
    "print(\"Meilleurs résultats de MSE par paramètre physique:\")\n",
    "display(best_results_sortedMSE[['Feature (L)', 'Target (X)', 'Best Params', 'MSE']])"
   ]
  },
  {
   "cell_type": "markdown",
   "id": "bdcb324f",
   "metadata": {},
   "source": [
    "**Comparaison des résultats en fonction de R2**"
   ]
  },
  {
   "cell_type": "code",
   "execution_count": 159,
   "id": "89a2caec",
   "metadata": {
    "scrolled": true
   },
   "outputs": [
    {
     "name": "stdout",
     "output_type": "stream",
     "text": [
      "Meilleurs résultats de R2 par paramètre physique:\n"
     ]
    },
    {
     "data": {
      "text/html": [
       "<div>\n",
       "<style scoped>\n",
       "    .dataframe tbody tr th:only-of-type {\n",
       "        vertical-align: middle;\n",
       "    }\n",
       "\n",
       "    .dataframe tbody tr th {\n",
       "        vertical-align: top;\n",
       "    }\n",
       "\n",
       "    .dataframe thead th {\n",
       "        text-align: right;\n",
       "    }\n",
       "</style>\n",
       "<table border=\"1\" class=\"dataframe\">\n",
       "  <thead>\n",
       "    <tr style=\"text-align: right;\">\n",
       "      <th></th>\n",
       "      <th>Feature (L)</th>\n",
       "      <th>Target (X)</th>\n",
       "      <th>Best Params</th>\n",
       "      <th>R2</th>\n",
       "    </tr>\n",
       "  </thead>\n",
       "  <tbody>\n",
       "    <tr>\n",
       "      <th>14</th>\n",
       "      <td>CR</td>\n",
       "      <td>mass_bc (g)</td>\n",
       "      <td>{'alpha': 1, 'gamma': 10, 'kernel': 'rbf'}</td>\n",
       "      <td>0.148701</td>\n",
       "    </tr>\n",
       "    <tr>\n",
       "      <th>13</th>\n",
       "      <td>CR</td>\n",
       "      <td>equi_mobility_dia (nm)</td>\n",
       "      <td>{'alpha': 1, 'gamma': 10, 'kernel': 'rbf'}</td>\n",
       "      <td>0.155031</td>\n",
       "    </tr>\n",
       "    <tr>\n",
       "      <th>11</th>\n",
       "      <td>CR</td>\n",
       "      <td>vol_equi_radius_outer (nm)</td>\n",
       "      <td>{'alpha': 1, 'gamma': 10, 'kernel': 'rbf'}</td>\n",
       "      <td>0.182429</td>\n",
       "    </tr>\n",
       "    <tr>\n",
       "      <th>12</th>\n",
       "      <td>CR</td>\n",
       "      <td>vol_equi_radius_inner (nm)</td>\n",
       "      <td>{'alpha': 1, 'gamma': 10, 'kernel': 'rbf'}</td>\n",
       "      <td>0.213117</td>\n",
       "    </tr>\n",
       "    <tr>\n",
       "      <th>5</th>\n",
       "      <td>fraction_of_coating (%)</td>\n",
       "      <td>primary_particle_size (nm)</td>\n",
       "      <td>{'alpha': 0.1, 'gamma': 10, 'kernel': 'rbf'}</td>\n",
       "      <td>0.959844</td>\n",
       "    </tr>\n",
       "  </tbody>\n",
       "</table>\n",
       "</div>"
      ],
      "text/plain": [
       "                Feature (L)                  Target (X)  \\\n",
       "14                       CR                 mass_bc (g)   \n",
       "13                       CR      equi_mobility_dia (nm)   \n",
       "11                       CR  vol_equi_radius_outer (nm)   \n",
       "12                       CR  vol_equi_radius_inner (nm)   \n",
       "5   fraction_of_coating (%)  primary_particle_size (nm)   \n",
       "\n",
       "                                     Best Params        R2  \n",
       "14    {'alpha': 1, 'gamma': 10, 'kernel': 'rbf'}  0.148701  \n",
       "13    {'alpha': 1, 'gamma': 10, 'kernel': 'rbf'}  0.155031  \n",
       "11    {'alpha': 1, 'gamma': 10, 'kernel': 'rbf'}  0.182429  \n",
       "12    {'alpha': 1, 'gamma': 10, 'kernel': 'rbf'}  0.213117  \n",
       "5   {'alpha': 0.1, 'gamma': 10, 'kernel': 'rbf'}  0.959844  "
      ]
     },
     "metadata": {},
     "output_type": "display_data"
    }
   ],
   "source": [
    "from IPython.display import display\n",
    "\n",
    "# Trouver les meilleurs résultats pour chaque colonne cible (Y)\n",
    "best_results_by_target = param_KRR.loc[param_KRR.groupby('Target (X)')['R2'].idxmax()]\n",
    "\n",
    "# Trier les résultats pour les visualiser clairement\n",
    "best_results_sortedR2 = best_results_by_target.sort_values(by='R2')\n",
    "\n",
    "# Afficher le tableau formaté avec Pandas\n",
    "print(\"Meilleurs résultats de R2 par paramètre physique:\")\n",
    "display(best_results_sortedR2[['Feature (L)', 'Target (X)', 'Best Params', 'R2']])\n"
   ]
  },
  {
   "cell_type": "markdown",
   "id": "0551f40d",
   "metadata": {},
   "source": [
    "**Enregistrement du meilleur modèle pour chaque variable prédite pour comparer les prédictions entre les 3 algorithmes**"
   ]
  },
  {
   "cell_type": "code",
   "execution_count": 170,
   "id": "530cac96",
   "metadata": {
    "scrolled": true
   },
   "outputs": [
    {
     "name": "stdout",
     "output_type": "stream",
     "text": [
      "{'mass_bc (g)': 'CR', 'primary_particle_size (nm)': 'fraction_of_coating (%)', 'vol_equi_radius_inner (nm)': 'CR', 'vol_equi_radius_outer (nm)': 'CR', 'equi_mobility_dia (nm)': 'CR'}\n"
     ]
    }
   ],
   "source": [
    "# Créer un dictionnaire pour stocker les meilleurs modèles par Target\n",
    "best_models_KRR_dict = {}\n",
    "\n",
    "# Parcourir chaque ligne de best_results_sorted\n",
    "for index, row in best_results_sortedMSE.iterrows():\n",
    "    target = row['Target (X)']\n",
    "    feature = row['Feature (L)']\n",
    "    \n",
    "    # Enregistrer le modèle (ici 'Feature (L)') pour chaque 'Target (X)'\n",
    "    best_models_KRR_dict[target] = feature\n",
    "\n",
    "# Afficher le dictionnaire\n",
    "print(best_models_KRR_dict)"
   ]
  },
  {
   "cell_type": "code",
   "execution_count": 175,
   "id": "a22e9f2a",
   "metadata": {},
   "outputs": [
    {
     "name": "stdout",
     "output_type": "stream",
     "text": [
      "Modèle 'CR' pour la target 'mass_bc (g)' sauvegardé sous le nom '../Best_model/L_X_1_var/KRR\\mass_bc (g)_best_modelKRR_avec_CR.joblib'\n",
      "Modèle 'fraction_of_coating (%)' pour la target 'primary_particle_size (nm)' sauvegardé sous le nom '../Best_model/L_X_1_var/KRR\\primary_particle_size (nm)_best_modelKRR_avec_fraction_of_coating (%).joblib'\n",
      "Modèle 'CR' pour la target 'vol_equi_radius_inner (nm)' sauvegardé sous le nom '../Best_model/L_X_1_var/KRR\\vol_equi_radius_inner (nm)_best_modelKRR_avec_CR.joblib'\n",
      "Modèle 'CR' pour la target 'vol_equi_radius_outer (nm)' sauvegardé sous le nom '../Best_model/L_X_1_var/KRR\\vol_equi_radius_outer (nm)_best_modelKRR_avec_CR.joblib'\n",
      "Modèle 'CR' pour la target 'equi_mobility_dia (nm)' sauvegardé sous le nom '../Best_model/L_X_1_var/KRR\\equi_mobility_dia (nm)_best_modelKRR_avec_CR.joblib'\n"
     ]
    }
   ],
   "source": [
    "import os\n",
    "import joblib\n",
    "\n",
    "# Spécifier le dossier de destination pour les modèles\n",
    "dossier_de_destination = '../Best_model/L_X_1_var/KRR'\n",
    "\n",
    "# Créer le dossier s'il n'existe pas déjà\n",
    "os.makedirs(dossier_de_destination, exist_ok=True)\n",
    "\n",
    "# Parcourir chaque ligne de best_results_sortedMSE\n",
    "for target in best_models_KRR_dict :\n",
    "    features = best_models_KRR_dict[target]\n",
    "    best_model = best_models1[(features , target)]  # Le modèle pour la feature\n",
    "\n",
    "    # Créer le chemin complet pour enregistrer le modèle\n",
    "    chemin_complet = os.path.join(dossier_de_destination, f'{target}_best_modelKRR_avec_{features}.joblib')\n",
    "\n",
    "    # Enregistrer le modèle dans un fichier avec joblib (pour KRR)\n",
    "    joblib.dump(best_model, chemin_complet)\n",
    "    \n",
    "    print(f\"Modèle '{features}' pour la target '{target}' sauvegardé sous le nom '{chemin_complet}'\")\n"
   ]
  },
  {
   "cell_type": "markdown",
   "id": "0c726faa",
   "metadata": {},
   "source": [
    "### Avec GB"
   ]
  },
  {
   "cell_type": "code",
   "execution_count": 176,
   "id": "11fece40-a39e-440d-b76a-aec34fffd693",
   "metadata": {},
   "outputs": [
    {
     "name": "stdout",
     "output_type": "stream",
     "text": [
      "Testing column: fractal_dimension\n",
      "Testing column: fraction_of_coating (%)\n",
      "Testing column: CR\n",
      "Testing column: BAE\n",
      "                                  MSE      MAPE        R2\n",
      "Feature (L)                                              \n",
      "CR                       11470.438470  1.539671  0.219473\n",
      "BAE                      11579.694073  1.540051  0.216418\n",
      "fraction_of_coating (%)  13067.118420  1.610694  0.230714\n",
      "fractal_dimension        13824.358686  1.665791  0.000413\n"
     ]
    }
   ],
   "source": [
    "import os\n",
    "from sklearn.ensemble import GradientBoostingRegressor\n",
    "from sklearn.metrics import mean_squared_error, mean_absolute_percentage_error, r2_score\n",
    "from sklearn.model_selection import GridSearchCV\n",
    "import pandas as pd\n",
    "from joblib import dump  # Importation de joblib pour sauvegarder les modèles\n",
    "\n",
    "# Paramètres pour GridSearchCV pour GradientBoostingRegressor\n",
    "param_grid = {\n",
    "    'n_estimators': [10, 100, 300, 500],\n",
    "    'learning_rate': [0.05, 0.1, 0.5],\n",
    "    'max_depth': [2, 3]\n",
    "}\n",
    "\n",
    "results = []\n",
    "best_models2 = {}\n",
    "\n",
    "# Boucle sur chaque colonne de L (chaque feature)\n",
    "for i, col in enumerate(L.columns):\n",
    "    print(f\"Testing column: {col}\")\n",
    "    \n",
    "    # Extraire la colonne de L voulue pour l'entraînement\n",
    "    X_train_col = X_train_transformed[:, i].reshape(-1, 1)\n",
    "    X_test_col = X_test_transformed[:, i].reshape(-1, 1)\n",
    "    \n",
    "    # Boucle sur chaque paramètre de X (chaque target)\n",
    "    for j, target in enumerate(X.columns):\n",
    "        \n",
    "        gbr = GradientBoostingRegressor()\n",
    "        \n",
    "        # Configurer GridSearchCV\n",
    "        grid_search = GridSearchCV(\n",
    "            estimator=gbr,\n",
    "            param_grid=param_grid,\n",
    "            cv=5,\n",
    "            scoring='neg_mean_squared_error',  # On peut utiliser 'neg_mean_squared_error' ou 'neg_mean_absolute_percentage_error'\n",
    "            n_jobs=-1\n",
    "        )\n",
    "        \n",
    "        # Ajuster le modèle avec la feature et la target correspondantes\n",
    "        grid_search.fit(X_train_col, Y_train.iloc[:, j])\n",
    "        \n",
    "        # Meilleur modèle\n",
    "        best_model = grid_search.best_estimator_\n",
    "        best_models2[(col,target)] = best_model\n",
    "        \n",
    "        y_pred = best_model.predict(X_test_col)\n",
    "        \n",
    "        # Calcul des métriques\n",
    "        mse = mean_squared_error(Y_test.iloc[:, j], y_pred)\n",
    "        mape = mean_absolute_percentage_error(Y_test.iloc[:, j], y_pred)\n",
    "        r2 = r2_score(Y_test.iloc[:, j], y_pred)\n",
    "        \n",
    "        # Sauvegarder les résultats dans un tableau\n",
    "        results.append({\n",
    "            'Feature (L)': col,\n",
    "            'Target (X)': target,\n",
    "            'MSE': mse,\n",
    "            'MAPE': mape,\n",
    "            'R2': r2,\n",
    "            'Best Params': grid_search.best_params_\n",
    "        })\n",
    "\n",
    "\n",
    "# Créer un DataFrame pour stocker les résultats\n",
    "param_GB = pd.DataFrame(results)\n",
    "\n",
    "# Afficher les performances moyennes par features L\n",
    "performance_summary_GB = param_GB.groupby('Feature (L)')[['MSE', 'MAPE', 'R2']].mean().sort_values(by='MSE')\n",
    "print(performance_summary_GB)"
   ]
  },
  {
   "cell_type": "markdown",
   "id": "dc9b41e2",
   "metadata": {},
   "source": [
    "**Comparaison des résultats en fonction de la MSE**"
   ]
  },
  {
   "cell_type": "code",
   "execution_count": 177,
   "id": "c524c99d",
   "metadata": {},
   "outputs": [
    {
     "name": "stdout",
     "output_type": "stream",
     "text": [
      "Meilleurs résultats de MSE par paramètre physique:\n"
     ]
    },
    {
     "data": {
      "text/html": [
       "<div>\n",
       "<style scoped>\n",
       "    .dataframe tbody tr th:only-of-type {\n",
       "        vertical-align: middle;\n",
       "    }\n",
       "\n",
       "    .dataframe tbody tr th {\n",
       "        vertical-align: top;\n",
       "    }\n",
       "\n",
       "    .dataframe thead th {\n",
       "        text-align: right;\n",
       "    }\n",
       "</style>\n",
       "<table border=\"1\" class=\"dataframe\">\n",
       "  <thead>\n",
       "    <tr style=\"text-align: right;\">\n",
       "      <th></th>\n",
       "      <th>Feature (L)</th>\n",
       "      <th>Target (X)</th>\n",
       "      <th>Best Params</th>\n",
       "      <th>MSE</th>\n",
       "    </tr>\n",
       "  </thead>\n",
       "  <tbody>\n",
       "    <tr>\n",
       "      <th>4</th>\n",
       "      <td>fractal_dimension</td>\n",
       "      <td>mass_bc (g)</td>\n",
       "      <td>{'learning_rate': 0.05, 'max_depth': 2, 'n_est...</td>\n",
       "      <td>2.735672e-29</td>\n",
       "    </tr>\n",
       "    <tr>\n",
       "      <th>5</th>\n",
       "      <td>fraction_of_coating (%)</td>\n",
       "      <td>primary_particle_size (nm)</td>\n",
       "      <td>{'learning_rate': 0.5, 'max_depth': 3, 'n_esti...</td>\n",
       "      <td>2.027253e-16</td>\n",
       "    </tr>\n",
       "    <tr>\n",
       "      <th>12</th>\n",
       "      <td>CR</td>\n",
       "      <td>vol_equi_radius_inner (nm)</td>\n",
       "      <td>{'learning_rate': 0.05, 'max_depth': 2, 'n_est...</td>\n",
       "      <td>1.028998e+03</td>\n",
       "    </tr>\n",
       "    <tr>\n",
       "      <th>11</th>\n",
       "      <td>CR</td>\n",
       "      <td>vol_equi_radius_outer (nm)</td>\n",
       "      <td>{'learning_rate': 0.05, 'max_depth': 2, 'n_est...</td>\n",
       "      <td>1.692476e+03</td>\n",
       "    </tr>\n",
       "    <tr>\n",
       "      <th>13</th>\n",
       "      <td>CR</td>\n",
       "      <td>equi_mobility_dia (nm)</td>\n",
       "      <td>{'learning_rate': 0.05, 'max_depth': 2, 'n_est...</td>\n",
       "      <td>5.462657e+04</td>\n",
       "    </tr>\n",
       "  </tbody>\n",
       "</table>\n",
       "</div>"
      ],
      "text/plain": [
       "                Feature (L)                  Target (X)  \\\n",
       "4         fractal_dimension                 mass_bc (g)   \n",
       "5   fraction_of_coating (%)  primary_particle_size (nm)   \n",
       "12                       CR  vol_equi_radius_inner (nm)   \n",
       "11                       CR  vol_equi_radius_outer (nm)   \n",
       "13                       CR      equi_mobility_dia (nm)   \n",
       "\n",
       "                                          Best Params           MSE  \n",
       "4   {'learning_rate': 0.05, 'max_depth': 2, 'n_est...  2.735672e-29  \n",
       "5   {'learning_rate': 0.5, 'max_depth': 3, 'n_esti...  2.027253e-16  \n",
       "12  {'learning_rate': 0.05, 'max_depth': 2, 'n_est...  1.028998e+03  \n",
       "11  {'learning_rate': 0.05, 'max_depth': 2, 'n_est...  1.692476e+03  \n",
       "13  {'learning_rate': 0.05, 'max_depth': 2, 'n_est...  5.462657e+04  "
      ]
     },
     "metadata": {},
     "output_type": "display_data"
    }
   ],
   "source": [
    "from IPython.display import display\n",
    "\n",
    "# Trouver les meilleurs résultats pour chaque colonne cible (Y)\n",
    "best_results_by_target = param_GB.loc[param_GB.groupby('Target (X)')['MSE'].idxmin()]\n",
    "\n",
    "# Trier les résultats pour les visualiser clairement\n",
    "best_results_sortedMSE = best_results_by_target.sort_values(by='MSE')\n",
    "\n",
    "# Afficher le tableau formaté avec Pandas\n",
    "print(\"Meilleurs résultats de MSE par paramètre physique:\")\n",
    "display(best_results_sortedMSE[['Feature (L)', 'Target (X)', 'Best Params', 'MSE']])\n"
   ]
  },
  {
   "cell_type": "markdown",
   "id": "57ed4d2e",
   "metadata": {},
   "source": [
    "Comparaison des résultats en fonction de R2"
   ]
  },
  {
   "cell_type": "code",
   "execution_count": 178,
   "id": "17c5180a",
   "metadata": {
    "scrolled": true
   },
   "outputs": [
    {
     "name": "stdout",
     "output_type": "stream",
     "text": [
      "Meilleurs résultats de R2 par paramètre physique:\n"
     ]
    },
    {
     "data": {
      "text/html": [
       "<div>\n",
       "<style scoped>\n",
       "    .dataframe tbody tr th:only-of-type {\n",
       "        vertical-align: middle;\n",
       "    }\n",
       "\n",
       "    .dataframe tbody tr th {\n",
       "        vertical-align: top;\n",
       "    }\n",
       "\n",
       "    .dataframe thead th {\n",
       "        text-align: right;\n",
       "    }\n",
       "</style>\n",
       "<table border=\"1\" class=\"dataframe\">\n",
       "  <thead>\n",
       "    <tr style=\"text-align: right;\">\n",
       "      <th></th>\n",
       "      <th>Feature (L)</th>\n",
       "      <th>Target (X)</th>\n",
       "      <th>Best Params</th>\n",
       "      <th>R2</th>\n",
       "    </tr>\n",
       "  </thead>\n",
       "  <tbody>\n",
       "    <tr>\n",
       "      <th>4</th>\n",
       "      <td>fractal_dimension</td>\n",
       "      <td>mass_bc (g)</td>\n",
       "      <td>{'learning_rate': 0.05, 'max_depth': 2, 'n_est...</td>\n",
       "      <td>-0.000015</td>\n",
       "    </tr>\n",
       "    <tr>\n",
       "      <th>13</th>\n",
       "      <td>CR</td>\n",
       "      <td>equi_mobility_dia (nm)</td>\n",
       "      <td>{'learning_rate': 0.05, 'max_depth': 2, 'n_est...</td>\n",
       "      <td>0.166006</td>\n",
       "    </tr>\n",
       "    <tr>\n",
       "      <th>11</th>\n",
       "      <td>CR</td>\n",
       "      <td>vol_equi_radius_outer (nm)</td>\n",
       "      <td>{'learning_rate': 0.05, 'max_depth': 2, 'n_est...</td>\n",
       "      <td>0.188680</td>\n",
       "    </tr>\n",
       "    <tr>\n",
       "      <th>12</th>\n",
       "      <td>CR</td>\n",
       "      <td>vol_equi_radius_inner (nm)</td>\n",
       "      <td>{'learning_rate': 0.05, 'max_depth': 2, 'n_est...</td>\n",
       "      <td>0.215531</td>\n",
       "    </tr>\n",
       "    <tr>\n",
       "      <th>5</th>\n",
       "      <td>fraction_of_coating (%)</td>\n",
       "      <td>primary_particle_size (nm)</td>\n",
       "      <td>{'learning_rate': 0.5, 'max_depth': 3, 'n_esti...</td>\n",
       "      <td>1.000000</td>\n",
       "    </tr>\n",
       "  </tbody>\n",
       "</table>\n",
       "</div>"
      ],
      "text/plain": [
       "                Feature (L)                  Target (X)  \\\n",
       "4         fractal_dimension                 mass_bc (g)   \n",
       "13                       CR      equi_mobility_dia (nm)   \n",
       "11                       CR  vol_equi_radius_outer (nm)   \n",
       "12                       CR  vol_equi_radius_inner (nm)   \n",
       "5   fraction_of_coating (%)  primary_particle_size (nm)   \n",
       "\n",
       "                                          Best Params        R2  \n",
       "4   {'learning_rate': 0.05, 'max_depth': 2, 'n_est... -0.000015  \n",
       "13  {'learning_rate': 0.05, 'max_depth': 2, 'n_est...  0.166006  \n",
       "11  {'learning_rate': 0.05, 'max_depth': 2, 'n_est...  0.188680  \n",
       "12  {'learning_rate': 0.05, 'max_depth': 2, 'n_est...  0.215531  \n",
       "5   {'learning_rate': 0.5, 'max_depth': 3, 'n_esti...  1.000000  "
      ]
     },
     "metadata": {},
     "output_type": "display_data"
    }
   ],
   "source": [
    "from IPython.display import display\n",
    "\n",
    "# Trouver les meilleurs résultats pour chaque colonne cible (Y)\n",
    "best_results_by_target = param_GB.loc[param_GB.groupby('Target (X)')['R2'].idxmax()]\n",
    "\n",
    "# Trier les résultats pour les visualiser clairement\n",
    "best_results_sortedR2 = best_results_by_target.sort_values(by='R2')\n",
    "\n",
    "# Afficher le tableau formaté avec Pandas\n",
    "print(\"Meilleurs résultats de R2 par paramètre physique:\")\n",
    "display(best_results_sortedR2[['Feature (L)', 'Target (X)', 'Best Params',  'R2']])\n"
   ]
  },
  {
   "cell_type": "markdown",
   "id": "581b80ef",
   "metadata": {},
   "source": [
    "Enregistrement du meilleur modèle pour chaque variable prédite pour comparer les prédictions entre les 3 algorithmes"
   ]
  },
  {
   "cell_type": "code",
   "execution_count": 179,
   "id": "334543e5",
   "metadata": {
    "scrolled": true
   },
   "outputs": [
    {
     "name": "stdout",
     "output_type": "stream",
     "text": [
      "{'mass_bc (g)': 'fractal_dimension', 'primary_particle_size (nm)': 'fraction_of_coating (%)', 'vol_equi_radius_inner (nm)': 'CR', 'vol_equi_radius_outer (nm)': 'CR', 'equi_mobility_dia (nm)': 'CR'}\n"
     ]
    }
   ],
   "source": [
    "# Créer un dictionnaire pour stocker les meilleurs modèles par Target\n",
    "best_models_GB_dict = {}\n",
    "\n",
    "# Parcourir chaque ligne de best_results_sorted\n",
    "for index, row in best_results_sortedMSE.iterrows():\n",
    "    target = row['Target (X)']\n",
    "    feature = row['Feature (L)']\n",
    "    \n",
    "    # Enregistrer le modèle (ici 'Feature (L)') pour chaque 'Target (X)'\n",
    "    best_models_GB_dict[target] = feature\n",
    "\n",
    "# Afficher le dictionnaire\n",
    "print(best_models_GB_dict)\n"
   ]
  },
  {
   "cell_type": "code",
   "execution_count": 181,
   "id": "7ccadef9",
   "metadata": {},
   "outputs": [
    {
     "name": "stdout",
     "output_type": "stream",
     "text": [
      "Modèle 'CR' pour la target 'mass_bc (g)' sauvegardé sous le nom '../Best_model/L_X_1_var/GB\\mass_bc (g)_best_modelGB_avec_CR.joblib'\n",
      "Modèle 'fraction_of_coating (%)' pour la target 'primary_particle_size (nm)' sauvegardé sous le nom '../Best_model/L_X_1_var/GB\\primary_particle_size (nm)_best_modelGB_avec_fraction_of_coating (%).joblib'\n",
      "Modèle 'CR' pour la target 'vol_equi_radius_inner (nm)' sauvegardé sous le nom '../Best_model/L_X_1_var/GB\\vol_equi_radius_inner (nm)_best_modelGB_avec_CR.joblib'\n",
      "Modèle 'CR' pour la target 'vol_equi_radius_outer (nm)' sauvegardé sous le nom '../Best_model/L_X_1_var/GB\\vol_equi_radius_outer (nm)_best_modelGB_avec_CR.joblib'\n",
      "Modèle 'CR' pour la target 'equi_mobility_dia (nm)' sauvegardé sous le nom '../Best_model/L_X_1_var/GB\\equi_mobility_dia (nm)_best_modelGB_avec_CR.joblib'\n"
     ]
    }
   ],
   "source": [
    "dossier_de_destination = '../Best_model/L_X_1_var/GB'\n",
    "\n",
    "# Créer le dossier s'il n'existe pas déjà\n",
    "os.makedirs(dossier_de_destination, exist_ok=True)\n",
    "\n",
    "for target in best_models_KRR_dict :\n",
    "    features = best_models_KRR_dict[target]\n",
    "    best_model = best_models1[(features , target)]  # Le modèle pour la feature\n",
    "\n",
    "    # Créer le chemin complet pour enregistrer le modèle\n",
    "    chemin_complet = os.path.join(dossier_de_destination, f'{target}_best_modelGB_avec_{features}.joblib')\n",
    "\n",
    "    # Enregistrer le modèle dans un fichier avec joblib (pour KRR)\n",
    "    joblib.dump(best_model, chemin_complet)\n",
    "    \n",
    "    print(f\"Modèle '{features}' pour la target '{target}' sauvegardé sous le nom '{chemin_complet}'\")"
   ]
  },
  {
   "cell_type": "markdown",
   "id": "beefc034",
   "metadata": {},
   "source": [
    "### Prédiction de X à l'aide d'une combinaison de 2 variables de L"
   ]
  },
  {
   "cell_type": "markdown",
   "id": "88b7b3a3",
   "metadata": {},
   "source": [
    "Dans cette partie nous allons voir si combiner 2 variables Lidar pour prédire les données physiques peut avoir un impact positif sur la prédiction.  "
   ]
  },
  {
   "cell_type": "markdown",
   "id": "11b4158a",
   "metadata": {},
   "source": [
    "Nous allons créer des modèles entrainés avec toutes les combinaisons de variables de L possibles (CR + BAE, etc). Nous allons comparer les 3 mêmes types d'algorithmes que dans la partie précédente : KRR, ANN et XGBoost."
   ]
  },
  {
   "cell_type": "markdown",
   "id": "9dc8ee19",
   "metadata": {},
   "source": [
    " ### Avec KRR"
   ]
  },
  {
   "cell_type": "code",
   "execution_count": 193,
   "id": "652470d2",
   "metadata": {},
   "outputs": [
    {
     "name": "stdout",
     "output_type": "stream",
     "text": [
      "Testing columns: ('fractal_dimension', 'fraction_of_coating (%)')\n",
      "Testing columns: ('fractal_dimension', 'CR')\n",
      "Testing columns: ('fractal_dimension', 'BAE')\n",
      "Testing columns: ('fraction_of_coating (%)', 'CR')\n",
      "Testing columns: ('fraction_of_coating (%)', 'BAE')\n",
      "Testing columns: ('CR', 'BAE')\n"
     ]
    }
   ],
   "source": [
    "from sklearn.kernel_ridge import KernelRidge\n",
    "from sklearn.metrics import mean_squared_error, mean_absolute_percentage_error, r2_score\n",
    "from sklearn.model_selection import GridSearchCV\n",
    "from itertools import combinations\n",
    "import pandas as pd\n",
    "\n",
    "# Paramètres pour GridSearchCV\n",
    "param_grid = {\n",
    "    'alpha': [0.1, 1, 10],           # Paramètre de régularisation\n",
    "    'kernel': ['linear', 'rbf'],     # Choix de noyaux\n",
    "    'gamma': [0.1, 1, 10]            # Paramètre pour le noyau 'rbf'\n",
    "}\n",
    "\n",
    "results = []\n",
    "best_models = {}\n",
    "\n",
    "# Boucle sur chaque combinaison de deux colonnes de L\n",
    "for col_pair in combinations(L.columns, 2):\n",
    "    print(f\"Testing columns: {col_pair}\")\n",
    "    \n",
    "    # Extraire les deux colonnes de L voulues pour l'entraînement\n",
    "    col_indices = [L.columns.get_loc(col) for col in col_pair]\n",
    "    X_train_pair = X_train_transformed[:, col_indices]\n",
    "    X_test_pair = X_test_transformed[:, col_indices]\n",
    "    \n",
    "    # Boucle sur chaque cible de X\n",
    "    for j, target in enumerate(X.columns):\n",
    "        \n",
    "        krr = KernelRidge()\n",
    "        \n",
    "        # Configurer GridSearchCV\n",
    "        grid_search = GridSearchCV(\n",
    "            estimator=krr,\n",
    "            param_grid=param_grid,\n",
    "            cv=5,\n",
    "            scoring='neg_mean_squared_error',\n",
    "            n_jobs=-1\n",
    "        )\n",
    "        \n",
    "        # Entraîner le modèle sur les deux colonnes sélectionnées de L pour prédire la cible\n",
    "        grid_search.fit(X_train_pair, Y_train.iloc[:, j])\n",
    "        \n",
    "        # Meilleur modèle pour cette combinaison et cible\n",
    "        best_model = grid_search.best_estimator_\n",
    "        best_models[(col_pair, target)] = best_model\n",
    "        \n",
    "        # Prédire sur l'ensemble de test\n",
    "        y_pred = best_model.predict(X_test_pair)\n",
    "        \n",
    "        # Calcul des métriques\n",
    "        mse = mean_squared_error(Y_test_transformed.iloc[:, j], y_pred)\n",
    "        mape = mean_absolute_percentage_error(Y_test_transformed.iloc[:, j], y_pred)\n",
    "        r2 = r2_score(Y_test_transformed.iloc[:, j], y_pred)\n",
    "        \n",
    "        # Stocker les résultats\n",
    "        results.append({\n",
    "            'Features (L)': col_pair,\n",
    "            'Target (X)': target,\n",
    "            'MSE': mse,\n",
    "            'MAPE': mape,\n",
    "            'R2': r2,\n",
    "            'Best Params': grid_search.best_params_\n",
    "        })\n",
    "\n",
    "# Convertir les résultats en DataFrame pour l'analyse\n",
    "results_df1 = pd.DataFrame(results)\n"
   ]
  },
  {
   "cell_type": "markdown",
   "id": "30b6b784",
   "metadata": {},
   "source": [
    "Comparaison des résultats en fonction de la MSE"
   ]
  },
  {
   "cell_type": "code",
   "execution_count": 203,
   "id": "04f3f0d4",
   "metadata": {},
   "outputs": [
    {
     "name": "stdout",
     "output_type": "stream",
     "text": [
      "Meilleurs résultats de MSE par colonne cible (X) :\n"
     ]
    },
    {
     "data": {
      "text/html": [
       "<div>\n",
       "<style scoped>\n",
       "    .dataframe tbody tr th:only-of-type {\n",
       "        vertical-align: middle;\n",
       "    }\n",
       "\n",
       "    .dataframe tbody tr th {\n",
       "        vertical-align: top;\n",
       "    }\n",
       "\n",
       "    .dataframe thead th {\n",
       "        text-align: right;\n",
       "    }\n",
       "</style>\n",
       "<table border=\"1\" class=\"dataframe\">\n",
       "  <thead>\n",
       "    <tr style=\"text-align: right;\">\n",
       "      <th></th>\n",
       "      <th>Features (L)</th>\n",
       "      <th>Target (X)</th>\n",
       "      <th>Best Params</th>\n",
       "      <th>MSE</th>\n",
       "    </tr>\n",
       "  </thead>\n",
       "  <tbody>\n",
       "    <tr>\n",
       "      <th>24</th>\n",
       "      <td>(fraction_of_coating (%), BAE)</td>\n",
       "      <td>mass_bc (g)</td>\n",
       "      <td>{'alpha': 0.1, 'gamma': 10, 'kernel': 'rbf'}</td>\n",
       "      <td>1.282253e-29</td>\n",
       "    </tr>\n",
       "    <tr>\n",
       "      <th>0</th>\n",
       "      <td>(fractal_dimension, fraction_of_coating (%))</td>\n",
       "      <td>primary_particle_size (nm)</td>\n",
       "      <td>{'alpha': 0.1, 'gamma': 1, 'kernel': 'rbf'}</td>\n",
       "      <td>6.214881e-02</td>\n",
       "    </tr>\n",
       "    <tr>\n",
       "      <th>17</th>\n",
       "      <td>(fraction_of_coating (%), CR)</td>\n",
       "      <td>vol_equi_radius_inner (nm)</td>\n",
       "      <td>{'alpha': 0.1, 'gamma': 10, 'kernel': 'rbf'}</td>\n",
       "      <td>4.268296e+02</td>\n",
       "    </tr>\n",
       "    <tr>\n",
       "      <th>16</th>\n",
       "      <td>(fraction_of_coating (%), CR)</td>\n",
       "      <td>vol_equi_radius_outer (nm)</td>\n",
       "      <td>{'alpha': 0.1, 'gamma': 10, 'kernel': 'rbf'}</td>\n",
       "      <td>6.675058e+02</td>\n",
       "    </tr>\n",
       "    <tr>\n",
       "      <th>23</th>\n",
       "      <td>(fraction_of_coating (%), BAE)</td>\n",
       "      <td>equi_mobility_dia (nm)</td>\n",
       "      <td>{'alpha': 0.1, 'gamma': 10, 'kernel': 'rbf'}</td>\n",
       "      <td>2.393964e+04</td>\n",
       "    </tr>\n",
       "  </tbody>\n",
       "</table>\n",
       "</div>"
      ],
      "text/plain": [
       "                                    Features (L)                  Target (X)  \\\n",
       "24                (fraction_of_coating (%), BAE)                 mass_bc (g)   \n",
       "0   (fractal_dimension, fraction_of_coating (%))  primary_particle_size (nm)   \n",
       "17                 (fraction_of_coating (%), CR)  vol_equi_radius_inner (nm)   \n",
       "16                 (fraction_of_coating (%), CR)  vol_equi_radius_outer (nm)   \n",
       "23                (fraction_of_coating (%), BAE)      equi_mobility_dia (nm)   \n",
       "\n",
       "                                     Best Params           MSE  \n",
       "24  {'alpha': 0.1, 'gamma': 10, 'kernel': 'rbf'}  1.282253e-29  \n",
       "0    {'alpha': 0.1, 'gamma': 1, 'kernel': 'rbf'}  6.214881e-02  \n",
       "17  {'alpha': 0.1, 'gamma': 10, 'kernel': 'rbf'}  4.268296e+02  \n",
       "16  {'alpha': 0.1, 'gamma': 10, 'kernel': 'rbf'}  6.675058e+02  \n",
       "23  {'alpha': 0.1, 'gamma': 10, 'kernel': 'rbf'}  2.393964e+04  "
      ]
     },
     "metadata": {},
     "output_type": "display_data"
    }
   ],
   "source": [
    "from IPython.display import display\n",
    "\n",
    "# Trouver les meilleurs résultats pour chaque colonne cible (X)\n",
    "best_results_by_target = results_df1.loc[results_df1.groupby('Target (X)')['MSE'].idxmin()]\n",
    "\n",
    "# Trier les résultats pour les visualiser clairement\n",
    "best_results_sortedMSE2 = best_results_by_target.sort_values(by='MSE')\n",
    "\n",
    "# Afficher le tableau formaté avec Pandas\n",
    "print(\"Meilleurs résultats de MSE par colonne cible (X) :\")\n",
    "display(best_results_sortedMSE2[['Features (L)', 'Target (X)', 'Best Params', 'MSE']])"
   ]
  },
  {
   "cell_type": "markdown",
   "id": "f1e6272b",
   "metadata": {},
   "source": [
    "Comparaison des résultats en fonction de R2"
   ]
  },
  {
   "cell_type": "code",
   "execution_count": 204,
   "id": "5e4c8e4a",
   "metadata": {
    "scrolled": true
   },
   "outputs": [
    {
     "name": "stdout",
     "output_type": "stream",
     "text": [
      "Meilleurs résultats de R2 par colonne cible (X) :\n"
     ]
    },
    {
     "data": {
      "text/html": [
       "<div>\n",
       "<style scoped>\n",
       "    .dataframe tbody tr th:only-of-type {\n",
       "        vertical-align: middle;\n",
       "    }\n",
       "\n",
       "    .dataframe tbody tr th {\n",
       "        vertical-align: top;\n",
       "    }\n",
       "\n",
       "    .dataframe thead th {\n",
       "        text-align: right;\n",
       "    }\n",
       "</style>\n",
       "<table border=\"1\" class=\"dataframe\">\n",
       "  <thead>\n",
       "    <tr style=\"text-align: right;\">\n",
       "      <th></th>\n",
       "      <th>Features (L)</th>\n",
       "      <th>Target (X)</th>\n",
       "      <th>Best Params</th>\n",
       "      <th>R2</th>\n",
       "    </tr>\n",
       "  </thead>\n",
       "  <tbody>\n",
       "    <tr>\n",
       "      <th>0</th>\n",
       "      <td>(fractal_dimension, fraction_of_coating (%))</td>\n",
       "      <td>primary_particle_size (nm)</td>\n",
       "      <td>{'alpha': 0.1, 'gamma': 1, 'kernel': 'rbf'}</td>\n",
       "      <td>0.992922</td>\n",
       "    </tr>\n",
       "    <tr>\n",
       "      <th>16</th>\n",
       "      <td>(fraction_of_coating (%), CR)</td>\n",
       "      <td>vol_equi_radius_outer (nm)</td>\n",
       "      <td>{'alpha': 0.1, 'gamma': 10, 'kernel': 'rbf'}</td>\n",
       "      <td>0.680018</td>\n",
       "    </tr>\n",
       "    <tr>\n",
       "      <th>17</th>\n",
       "      <td>(fraction_of_coating (%), CR)</td>\n",
       "      <td>vol_equi_radius_inner (nm)</td>\n",
       "      <td>{'alpha': 0.1, 'gamma': 10, 'kernel': 'rbf'}</td>\n",
       "      <td>0.674601</td>\n",
       "    </tr>\n",
       "    <tr>\n",
       "      <th>23</th>\n",
       "      <td>(fraction_of_coating (%), BAE)</td>\n",
       "      <td>equi_mobility_dia (nm)</td>\n",
       "      <td>{'alpha': 0.1, 'gamma': 10, 'kernel': 'rbf'}</td>\n",
       "      <td>0.634509</td>\n",
       "    </tr>\n",
       "    <tr>\n",
       "      <th>24</th>\n",
       "      <td>(fraction_of_coating (%), BAE)</td>\n",
       "      <td>mass_bc (g)</td>\n",
       "      <td>{'alpha': 0.1, 'gamma': 10, 'kernel': 'rbf'}</td>\n",
       "      <td>0.531277</td>\n",
       "    </tr>\n",
       "  </tbody>\n",
       "</table>\n",
       "</div>"
      ],
      "text/plain": [
       "                                    Features (L)                  Target (X)  \\\n",
       "0   (fractal_dimension, fraction_of_coating (%))  primary_particle_size (nm)   \n",
       "16                 (fraction_of_coating (%), CR)  vol_equi_radius_outer (nm)   \n",
       "17                 (fraction_of_coating (%), CR)  vol_equi_radius_inner (nm)   \n",
       "23                (fraction_of_coating (%), BAE)      equi_mobility_dia (nm)   \n",
       "24                (fraction_of_coating (%), BAE)                 mass_bc (g)   \n",
       "\n",
       "                                     Best Params        R2  \n",
       "0    {'alpha': 0.1, 'gamma': 1, 'kernel': 'rbf'}  0.992922  \n",
       "16  {'alpha': 0.1, 'gamma': 10, 'kernel': 'rbf'}  0.680018  \n",
       "17  {'alpha': 0.1, 'gamma': 10, 'kernel': 'rbf'}  0.674601  \n",
       "23  {'alpha': 0.1, 'gamma': 10, 'kernel': 'rbf'}  0.634509  \n",
       "24  {'alpha': 0.1, 'gamma': 10, 'kernel': 'rbf'}  0.531277  "
      ]
     },
     "metadata": {},
     "output_type": "display_data"
    }
   ],
   "source": [
    "from IPython.display import display\n",
    "\n",
    "# Trouver les meilleurs résultats pour chaque colonne cible (X) basés sur le score R2\n",
    "best_results_by_target = results_df1.loc[results_df1.groupby('Target (X)')['R2'].idxmax()]\n",
    "\n",
    "# Trier les résultats pour les visualiser clairement\n",
    "best_results_sortedR22 = best_results_by_target.sort_values(by='R2', ascending=False)\n",
    "\n",
    "# Afficher le tableau formaté avec Pandas\n",
    "print(\"Meilleurs résultats de R2 par colonne cible (X) :\")\n",
    "display(best_results_sortedR22[['Features (L)', 'Target (X)', 'Best Params', 'R2']])"
   ]
  },
  {
   "cell_type": "markdown",
   "id": "dc6a05a6",
   "metadata": {},
   "source": [
    "Enregistrement du meilleur modèle pour comparer les prédictions en les 3 algorithmes"
   ]
  },
  {
   "cell_type": "code",
   "execution_count": 205,
   "id": "adce4b70",
   "metadata": {},
   "outputs": [
    {
     "name": "stdout",
     "output_type": "stream",
     "text": [
      "{'mass_bc (g)': ('fraction_of_coating (%)', 'BAE'), 'primary_particle_size (nm)': ('fractal_dimension', 'fraction_of_coating (%)'), 'vol_equi_radius_inner (nm)': ('fraction_of_coating (%)', 'CR'), 'vol_equi_radius_outer (nm)': ('fraction_of_coating (%)', 'CR'), 'equi_mobility_dia (nm)': ('fraction_of_coating (%)', 'BAE')}\n"
     ]
    }
   ],
   "source": [
    "# Créer un dictionnaire pour stocker les meilleurs modèles par Target\n",
    "best_models_KRR2var_dict = {}\n",
    "\n",
    "# Parcourir chaque ligne de best_results_sorted\n",
    "for index, row in best_results_sortedMSE2.iterrows():\n",
    "    target = row['Target (X)']\n",
    "    feature = row['Features (L)']\n",
    "    \n",
    "    # Enregistrer le modèle (ici 'Feature (L)') pour chaque 'Target (X)'\n",
    "    best_models_KRR2var_dict[target] = feature\n",
    "\n",
    "# Afficher le dictionnaire\n",
    "print(best_models_KRR2var_dict)"
   ]
  },
  {
   "cell_type": "code",
   "execution_count": 208,
   "id": "d910f459",
   "metadata": {},
   "outputs": [
    {
     "name": "stdout",
     "output_type": "stream",
     "text": [
      "Modèle '('fraction_of_coating (%)', 'BAE')' pour la target 'mass_bc (g)' sauvegardé sous le nom '../Best_model/L_X_2_var/mass_bc (g)_best_modelKRR_avec_('fraction_of_coating (%)', 'BAE').joblib'\n",
      "Modèle '('fractal_dimension', 'fraction_of_coating (%)')' pour la target 'primary_particle_size (nm)' sauvegardé sous le nom '../Best_model/L_X_2_var/primary_particle_size (nm)_best_modelKRR_avec_('fractal_dimension', 'fraction_of_coating (%)').joblib'\n",
      "Modèle '('fraction_of_coating (%)', 'CR')' pour la target 'vol_equi_radius_inner (nm)' sauvegardé sous le nom '../Best_model/L_X_2_var/vol_equi_radius_inner (nm)_best_modelKRR_avec_('fraction_of_coating (%)', 'CR').joblib'\n",
      "Modèle '('fraction_of_coating (%)', 'CR')' pour la target 'vol_equi_radius_outer (nm)' sauvegardé sous le nom '../Best_model/L_X_2_var/vol_equi_radius_outer (nm)_best_modelKRR_avec_('fraction_of_coating (%)', 'CR').joblib'\n",
      "Modèle '('fraction_of_coating (%)', 'BAE')' pour la target 'equi_mobility_dia (nm)' sauvegardé sous le nom '../Best_model/L_X_2_var/equi_mobility_dia (nm)_best_modelKRR_avec_('fraction_of_coating (%)', 'BAE').joblib'\n"
     ]
    }
   ],
   "source": [
    "dossier_de_destination = '../Best_model/L_X_2_var/'\n",
    "\n",
    "# Créer le dossier s'il n'existe pas déjà\n",
    "os.makedirs(dossier_de_destination, exist_ok=True)\n",
    "\n",
    "for target in best_models_KRR2var_dict :\n",
    "    features = best_models_KRR2var_dict[target]\n",
    "    best_model = best_models[(features , target)]  # Le modèle pour la feature\n",
    "\n",
    "    # Créer le chemin complet pour enregistrer le modèle\n",
    "    chemin_complet = os.path.join(dossier_de_destination, f'{target}_best_modelKRR_avec_{features}.joblib')\n",
    "\n",
    "    # Enregistrer le modèle dans un fichier avec joblib (pour KRR)\n",
    "    joblib.dump(best_model, chemin_complet)\n",
    "    \n",
    "    print(f\"Modèle '{features}' pour la target '{target}' sauvegardé sous le nom '{chemin_complet}'\")"
   ]
  },
  {
   "cell_type": "markdown",
   "id": "7b7c620a",
   "metadata": {},
   "source": [
    " ### Avec GB"
   ]
  },
  {
   "cell_type": "code",
   "execution_count": 209,
   "id": "4d5f38bd",
   "metadata": {},
   "outputs": [
    {
     "name": "stdout",
     "output_type": "stream",
     "text": [
      "Testing columns: ('fractal_dimension', 'fraction_of_coating (%)')\n",
      "Testing columns: ('fractal_dimension', 'CR')\n",
      "Testing columns: ('fractal_dimension', 'BAE')\n",
      "Testing columns: ('fraction_of_coating (%)', 'CR')\n",
      "Testing columns: ('fraction_of_coating (%)', 'BAE')\n",
      "Testing columns: ('CR', 'BAE')\n"
     ]
    }
   ],
   "source": [
    "from sklearn.ensemble import GradientBoostingRegressor\n",
    "from sklearn.metrics import mean_squared_error, mean_absolute_percentage_error, r2_score\n",
    "from sklearn.model_selection import GridSearchCV\n",
    "from itertools import combinations\n",
    "import pandas as pd\n",
    "\n",
    "# Paramètres pour GridSearchCV pour GradientBoostingRegressor\n",
    "param_grid = {\n",
    "    'n_estimators': [10, 100, 300, 500],\n",
    "    'learning_rate': [0.05, 0.1, 0.5],\n",
    "    'max_depth': [2, 3]\n",
    "}\n",
    "\n",
    "results = []\n",
    "best_models2 = {}\n",
    "\n",
    "# Boucle sur chaque combinaison de deux colonnes de L\n",
    "for col_pair in combinations(L.columns, 2):\n",
    "    print(f\"Testing columns: {col_pair}\")\n",
    "    \n",
    "    # Extraire les deux colonnes de L voulues pour l'entraînement\n",
    "    col_indices = [L.columns.get_loc(col) for col in col_pair]\n",
    "    X_train_pair = X_train_transformed[:, col_indices]\n",
    "    X_test_pair = X_test_transformed[:, col_indices]\n",
    "    \n",
    "    # Boucle sur chaque cible de X\n",
    "    for j, target in enumerate(X.columns):\n",
    "        \n",
    "        gbr = GradientBoostingRegressor()\n",
    "        \n",
    "        # Configurer GridSearchCV\n",
    "        grid_search = GridSearchCV(\n",
    "            estimator=gbr,\n",
    "            param_grid=param_grid,\n",
    "            cv=5,\n",
    "            scoring='neg_mean_squared_error',  # Peut être aussi 'neg_mean_absolute_percentage_error'\n",
    "            n_jobs=-1\n",
    "        )\n",
    "        \n",
    "        # Entraîner le modèle sur les deux colonnes sélectionnées de L pour prédire la cible\n",
    "        grid_search.fit(X_train_pair, Y_train.iloc[:, j])\n",
    "        \n",
    "        # Meilleur modèle pour cette combinaison et cible\n",
    "        best_model = grid_search.best_estimator_\n",
    "        best_models2[(col_pair, target)] = best_model\n",
    "        \n",
    "        # Prédire sur l'ensemble de test\n",
    "        y_pred = best_model.predict(X_test_pair)\n",
    "        \n",
    "        # Calcul des métriques\n",
    "        mse = mean_squared_error(Y_test.iloc[:, j], y_pred)\n",
    "        mape = mean_absolute_percentage_error(Y_test.iloc[:, j], y_pred)\n",
    "        r2 = r2_score(Y_test.iloc[:, j], y_pred)\n",
    "        \n",
    "        # Stocker les résultats\n",
    "        results.append({\n",
    "            'Features (L)': col_pair,\n",
    "            'Target (X)': target,\n",
    "            'MSE': mse,\n",
    "            'MAPE': mape,\n",
    "            'R2': r2,\n",
    "            'Best Params': grid_search.best_params_\n",
    "        })\n",
    "\n",
    "# Convertir les résultats en DataFrame pour l'analyse\n",
    "results_df1 = pd.DataFrame(results)"
   ]
  },
  {
   "cell_type": "markdown",
   "id": "a20d8af3",
   "metadata": {},
   "source": [
    "Comparaison des résultats en fonction de la MSE"
   ]
  },
  {
   "cell_type": "code",
   "execution_count": 210,
   "id": "e89ea50a",
   "metadata": {},
   "outputs": [
    {
     "name": "stdout",
     "output_type": "stream",
     "text": [
      "Meilleurs résultats de MSE par paramètre physique (combinaisons de Features (L)):\n"
     ]
    },
    {
     "data": {
      "text/html": [
       "<div>\n",
       "<style scoped>\n",
       "    .dataframe tbody tr th:only-of-type {\n",
       "        vertical-align: middle;\n",
       "    }\n",
       "\n",
       "    .dataframe tbody tr th {\n",
       "        vertical-align: top;\n",
       "    }\n",
       "\n",
       "    .dataframe thead th {\n",
       "        text-align: right;\n",
       "    }\n",
       "</style>\n",
       "<table border=\"1\" class=\"dataframe\">\n",
       "  <thead>\n",
       "    <tr style=\"text-align: right;\">\n",
       "      <th></th>\n",
       "      <th>Features (L)</th>\n",
       "      <th>Target (X)</th>\n",
       "      <th>Best Params</th>\n",
       "      <th>MSE</th>\n",
       "    </tr>\n",
       "  </thead>\n",
       "  <tbody>\n",
       "    <tr>\n",
       "      <th>4</th>\n",
       "      <td>(fractal_dimension, fraction_of_coating (%))</td>\n",
       "      <td>mass_bc (g)</td>\n",
       "      <td>{'learning_rate': 0.05, 'max_depth': 2, 'n_est...</td>\n",
       "      <td>2.735672e-29</td>\n",
       "    </tr>\n",
       "    <tr>\n",
       "      <th>0</th>\n",
       "      <td>(fractal_dimension, fraction_of_coating (%))</td>\n",
       "      <td>primary_particle_size (nm)</td>\n",
       "      <td>{'learning_rate': 0.5, 'max_depth': 3, 'n_esti...</td>\n",
       "      <td>2.027253e-16</td>\n",
       "    </tr>\n",
       "    <tr>\n",
       "      <th>17</th>\n",
       "      <td>(fraction_of_coating (%), CR)</td>\n",
       "      <td>vol_equi_radius_inner (nm)</td>\n",
       "      <td>{'learning_rate': 0.05, 'max_depth': 3, 'n_est...</td>\n",
       "      <td>5.039376e+02</td>\n",
       "    </tr>\n",
       "    <tr>\n",
       "      <th>16</th>\n",
       "      <td>(fraction_of_coating (%), CR)</td>\n",
       "      <td>vol_equi_radius_outer (nm)</td>\n",
       "      <td>{'learning_rate': 0.1, 'max_depth': 3, 'n_esti...</td>\n",
       "      <td>7.834279e+02</td>\n",
       "    </tr>\n",
       "    <tr>\n",
       "      <th>18</th>\n",
       "      <td>(fraction_of_coating (%), CR)</td>\n",
       "      <td>equi_mobility_dia (nm)</td>\n",
       "      <td>{'learning_rate': 0.05, 'max_depth': 3, 'n_est...</td>\n",
       "      <td>2.819610e+04</td>\n",
       "    </tr>\n",
       "  </tbody>\n",
       "</table>\n",
       "</div>"
      ],
      "text/plain": [
       "                                    Features (L)                  Target (X)  \\\n",
       "4   (fractal_dimension, fraction_of_coating (%))                 mass_bc (g)   \n",
       "0   (fractal_dimension, fraction_of_coating (%))  primary_particle_size (nm)   \n",
       "17                 (fraction_of_coating (%), CR)  vol_equi_radius_inner (nm)   \n",
       "16                 (fraction_of_coating (%), CR)  vol_equi_radius_outer (nm)   \n",
       "18                 (fraction_of_coating (%), CR)      equi_mobility_dia (nm)   \n",
       "\n",
       "                                          Best Params           MSE  \n",
       "4   {'learning_rate': 0.05, 'max_depth': 2, 'n_est...  2.735672e-29  \n",
       "0   {'learning_rate': 0.5, 'max_depth': 3, 'n_esti...  2.027253e-16  \n",
       "17  {'learning_rate': 0.05, 'max_depth': 3, 'n_est...  5.039376e+02  \n",
       "16  {'learning_rate': 0.1, 'max_depth': 3, 'n_esti...  7.834279e+02  \n",
       "18  {'learning_rate': 0.05, 'max_depth': 3, 'n_est...  2.819610e+04  "
      ]
     },
     "metadata": {},
     "output_type": "display_data"
    }
   ],
   "source": [
    "from IPython.display import display\n",
    "\n",
    "# Trouver les meilleurs résultats pour chaque colonne cible (X) en minimisant le MSE\n",
    "best_results_by_target = results_df1.loc[results_df1.groupby('Target (X)')['MSE'].idxmin()]\n",
    "\n",
    "# Trier les résultats pour les visualiser clairement\n",
    "best_results_sortedMSE = best_results_by_target.sort_values(by='MSE')\n",
    "\n",
    "# Afficher le tableau formaté avec Pandas\n",
    "print(\"Meilleurs résultats de MSE par paramètre physique (combinaisons de Features (L)):\")\n",
    "display(best_results_sortedMSE[['Features (L)', 'Target (X)', 'Best Params', 'MSE']])\n"
   ]
  },
  {
   "cell_type": "markdown",
   "id": "db745225",
   "metadata": {},
   "source": [
    "Comparaison des résultats en fonction de R2"
   ]
  },
  {
   "cell_type": "code",
   "execution_count": 211,
   "id": "0f880216",
   "metadata": {},
   "outputs": [
    {
     "name": "stdout",
     "output_type": "stream",
     "text": [
      "Meilleurs résultats de R2 par paramètre physique (combinaisons de Features (L)):\n"
     ]
    },
    {
     "data": {
      "text/html": [
       "<div>\n",
       "<style scoped>\n",
       "    .dataframe tbody tr th:only-of-type {\n",
       "        vertical-align: middle;\n",
       "    }\n",
       "\n",
       "    .dataframe tbody tr th {\n",
       "        vertical-align: top;\n",
       "    }\n",
       "\n",
       "    .dataframe thead th {\n",
       "        text-align: right;\n",
       "    }\n",
       "</style>\n",
       "<table border=\"1\" class=\"dataframe\">\n",
       "  <thead>\n",
       "    <tr style=\"text-align: right;\">\n",
       "      <th></th>\n",
       "      <th>Features (L)</th>\n",
       "      <th>Target (X)</th>\n",
       "      <th>R2</th>\n",
       "    </tr>\n",
       "  </thead>\n",
       "  <tbody>\n",
       "    <tr>\n",
       "      <th>0</th>\n",
       "      <td>(fractal_dimension, fraction_of_coating (%))</td>\n",
       "      <td>primary_particle_size (nm)</td>\n",
       "      <td>1.000000</td>\n",
       "    </tr>\n",
       "    <tr>\n",
       "      <th>16</th>\n",
       "      <td>(fraction_of_coating (%), CR)</td>\n",
       "      <td>vol_equi_radius_outer (nm)</td>\n",
       "      <td>0.624449</td>\n",
       "    </tr>\n",
       "    <tr>\n",
       "      <th>17</th>\n",
       "      <td>(fraction_of_coating (%), CR)</td>\n",
       "      <td>vol_equi_radius_inner (nm)</td>\n",
       "      <td>0.615817</td>\n",
       "    </tr>\n",
       "    <tr>\n",
       "      <th>18</th>\n",
       "      <td>(fraction_of_coating (%), CR)</td>\n",
       "      <td>equi_mobility_dia (nm)</td>\n",
       "      <td>0.569525</td>\n",
       "    </tr>\n",
       "    <tr>\n",
       "      <th>4</th>\n",
       "      <td>(fractal_dimension, fraction_of_coating (%))</td>\n",
       "      <td>mass_bc (g)</td>\n",
       "      <td>-0.000015</td>\n",
       "    </tr>\n",
       "  </tbody>\n",
       "</table>\n",
       "</div>"
      ],
      "text/plain": [
       "                                    Features (L)                  Target (X)  \\\n",
       "0   (fractal_dimension, fraction_of_coating (%))  primary_particle_size (nm)   \n",
       "16                 (fraction_of_coating (%), CR)  vol_equi_radius_outer (nm)   \n",
       "17                 (fraction_of_coating (%), CR)  vol_equi_radius_inner (nm)   \n",
       "18                 (fraction_of_coating (%), CR)      equi_mobility_dia (nm)   \n",
       "4   (fractal_dimension, fraction_of_coating (%))                 mass_bc (g)   \n",
       "\n",
       "          R2  \n",
       "0   1.000000  \n",
       "16  0.624449  \n",
       "17  0.615817  \n",
       "18  0.569525  \n",
       "4  -0.000015  "
      ]
     },
     "metadata": {},
     "output_type": "display_data"
    }
   ],
   "source": [
    "from IPython.display import display\n",
    "\n",
    "# Trouver les meilleurs résultats pour chaque colonne cible (X) en maximisant le R2\n",
    "best_results_by_target = results_df1.loc[results_df1.groupby('Target (X)')['R2'].idxmax()]\n",
    "\n",
    "# Trier les résultats pour les visualiser clairement\n",
    "best_results_sortedR2 = best_results_by_target.sort_values(by='R2', ascending=False)\n",
    "\n",
    "# Afficher le tableau formaté avec Pandas\n",
    "print(\"Meilleurs résultats de R2 par paramètre physique (combinaisons de Features (L)):\")\n",
    "display(best_results_sortedR2[['Features (L)', 'Target (X)', 'R2']])\n"
   ]
  },
  {
   "cell_type": "markdown",
   "id": "1875871c",
   "metadata": {},
   "source": [
    "Enregistrement du meilleur modèle pour comparer les prédictions en les 3 algorithmes"
   ]
  },
  {
   "cell_type": "code",
   "execution_count": 212,
   "id": "6fc5c600",
   "metadata": {},
   "outputs": [
    {
     "name": "stdout",
     "output_type": "stream",
     "text": [
      "{'mass_bc (g)': ('fractal_dimension', 'fraction_of_coating (%)'), 'primary_particle_size (nm)': ('fractal_dimension', 'fraction_of_coating (%)'), 'vol_equi_radius_inner (nm)': ('fraction_of_coating (%)', 'CR'), 'vol_equi_radius_outer (nm)': ('fraction_of_coating (%)', 'CR'), 'equi_mobility_dia (nm)': ('fraction_of_coating (%)', 'CR')}\n"
     ]
    }
   ],
   "source": [
    "# Créer un dictionnaire pour stocker les meilleurs modèles par Target\n",
    "best_models_GB2var_dict = {}\n",
    "\n",
    "# Parcourir chaque ligne de best_results_sorted\n",
    "for index, row in best_results_sortedMSE.iterrows():\n",
    "    target = row['Target (X)']\n",
    "    feature = row['Features (L)']\n",
    "    \n",
    "    # Enregistrer le modèle (ici 'Feature (L)') pour chaque 'Target (X)'\n",
    "    best_models_GB2var_dict[target] = feature\n",
    "\n",
    "# Afficher le dictionnaire\n",
    "print(best_models_GB2var_dict)"
   ]
  },
  {
   "cell_type": "code",
   "execution_count": 213,
   "id": "25184d75",
   "metadata": {},
   "outputs": [
    {
     "name": "stdout",
     "output_type": "stream",
     "text": [
      "Modèle '('fractal_dimension', 'fraction_of_coating (%)')' pour la target 'mass_bc (g)' sauvegardé sous le nom '../Best_model/L_X_2_var/mass_bc (g)_best_modelGB_avec_('fractal_dimension', 'fraction_of_coating (%)').joblib'\n",
      "Modèle '('fractal_dimension', 'fraction_of_coating (%)')' pour la target 'primary_particle_size (nm)' sauvegardé sous le nom '../Best_model/L_X_2_var/primary_particle_size (nm)_best_modelGB_avec_('fractal_dimension', 'fraction_of_coating (%)').joblib'\n",
      "Modèle '('fraction_of_coating (%)', 'CR')' pour la target 'vol_equi_radius_inner (nm)' sauvegardé sous le nom '../Best_model/L_X_2_var/vol_equi_radius_inner (nm)_best_modelGB_avec_('fraction_of_coating (%)', 'CR').joblib'\n",
      "Modèle '('fraction_of_coating (%)', 'CR')' pour la target 'vol_equi_radius_outer (nm)' sauvegardé sous le nom '../Best_model/L_X_2_var/vol_equi_radius_outer (nm)_best_modelGB_avec_('fraction_of_coating (%)', 'CR').joblib'\n",
      "Modèle '('fraction_of_coating (%)', 'CR')' pour la target 'equi_mobility_dia (nm)' sauvegardé sous le nom '../Best_model/L_X_2_var/equi_mobility_dia (nm)_best_modelGB_avec_('fraction_of_coating (%)', 'CR').joblib'\n"
     ]
    }
   ],
   "source": [
    "dossier_de_destination = '../Best_model/L_X_2_var/'\n",
    "\n",
    "# Créer le dossier s'il n'existe pas déjà\n",
    "os.makedirs(dossier_de_destination, exist_ok=True)\n",
    "\n",
    "for target in best_models_GB2var_dict :\n",
    "    features = best_models_GB2var_dict[target]\n",
    "    best_model = best_models[(features , target)]  # Le modèle pour la feature\n",
    "\n",
    "    # Créer le chemin complet pour enregistrer le modèle\n",
    "    chemin_complet = os.path.join(dossier_de_destination, f'{target}_best_modelGB_avec_{features}.joblib')\n",
    "\n",
    "    # Enregistrer le modèle dans un fichier avec joblib (pour KRR)\n",
    "    joblib.dump(best_model, chemin_complet)\n",
    "    \n",
    "    print(f\"Modèle '{features}' pour la target '{target}' sauvegardé sous le nom '{chemin_complet}'\")\n"
   ]
  },
  {
   "cell_type": "code",
   "execution_count": null,
   "id": "425d420e-85dd-44f8-95a6-3e04ff904c21",
   "metadata": {},
   "outputs": [],
   "source": []
  }
 ],
 "metadata": {
  "kernelspec": {
   "display_name": "Python 3 (ipykernel)",
   "language": "python",
   "name": "python3"
  },
  "language_info": {
   "codemirror_mode": {
    "name": "ipython",
    "version": 3
   },
   "file_extension": ".py",
   "mimetype": "text/x-python",
   "name": "python",
   "nbconvert_exporter": "python",
   "pygments_lexer": "ipython3",
   "version": "3.12.4"
  }
 },
 "nbformat": 4,
 "nbformat_minor": 5
}

{
 "cells": [
  {
   "cell_type": "markdown",
   "id": "c397a9e2",
   "metadata": {},
   "source": [
    "## Projet RI"
   ]
  },
  {
   "cell_type": "markdown",
   "id": "87495615",
   "metadata": {},
   "source": [
    "### Prédiction des caractéristiques physiques du carbone noir à l'aide de variables Lidar"
   ]
  },
  {
   "cell_type": "markdown",
   "id": "a1b7fe64",
   "metadata": {},
   "source": [
    "Ci-dessous est codée une fonction qui permet de renseigner les caractéristiques physiques d'une particule de carbone noir. Ces caractéristiques sont obtenues à partir de 4 élèments : la valeur de son Color Ration associé, de son Backscattering Angle Effect, de sa dimension fractale et pourcentage de coating.\n",
    "Pour obtenir ces informations, différents modèles de Machine Learning ont été entrainés au préalable et seulement les modèles donnant les meilleurs résultats ont été sélectionnés. Dans notre cas les meilleurs résultats ont été obtenus :\n",
    "- pour 'primary_particle_size (nm)': avec 'GBR',\n",
    "- pour 'vol_equi_radius_outer (nm)': avec 'KRR',\n",
    "- pour 'vol_equi_radius_inner (nm)': avec 'KRR',\n",
    "- pour 'equi_mobility_dia (nm)': avec 'KRR',\n",
    "- pour 'mass_bc (g)': avec 'KRR'"
   ]
  },
  {
   "cell_type": "markdown",
   "id": "29092a15",
   "metadata": {},
   "source": [
    "Pour utiliser la fonction 'Predict_parameters', veuillez renseigner les éléments suivants : \n",
    "- 'cr' : Color Ratio (float)\n",
    "- 'bae' : Backscattering Angle Effect (float)\n",
    "- 'fractal_dimension' : Dimension Fractale (float)\n",
    "- 'fraction_of_coating' : Pourcentage de Coating (integer, %)"
   ]
  },
  {
   "cell_type": "code",
   "execution_count": 1,
   "id": "02ad724a",
   "metadata": {},
   "outputs": [],
   "source": [
    "import numpy as np\n",
    "from joblib import load\n",
    "import os"
   ]
  },
  {
   "cell_type": "code",
   "execution_count": 13,
   "id": "bfa37a2f",
   "metadata": {},
   "outputs": [],
   "source": [
    "def Predict_parameters(cr, bae, fractal_dimension, fraction_of_coating):\n",
    "\n",
    "    # Répertoire des modèles sauvegardés\n",
    "    model_dir = \"./Best_models/L_X_best_models\"\n",
    "    \n",
    "    # Variable à prédire\n",
    "    var_target = {\n",
    "        'primary_particle_size (nm)': 'GBR',\n",
    "        'vol_equi_radius_outer (nm)': 'KRR',\n",
    "        'vol_equi_radius_inner (nm)': 'KRR',\n",
    "        'equi_mobility_dia (nm)': 'KRR',\n",
    "        'mass_bc (g)': 'KRR'\n",
    "    }\n",
    "\n",
    "    # Données d'entrée pour la prédiction\n",
    "    input_data = np.array([cr, bae, fractal_dimension, fraction_of_coating]).reshape(1, -1)\n",
    "\n",
    "    predictions = {}\n",
    "    \n",
    "    #Pour chaque variable target on effectue la prédiction sur son modèle associé\n",
    "    for target, model_type in var_target.items():\n",
    "        \n",
    "        # Chemin du modèle\n",
    "        model_path = os.path.join(model_dir, f'{target}_best_model_{model_type}.joblib')\n",
    "\n",
    "        # Vérification de l'existence du fichier\n",
    "        if not os.path.exists(model_path):\n",
    "            raise FileNotFoundError(f\"Modèle pour '{target}' introuvable à {model_path}\")\n",
    "\n",
    "        # Chargement du modèle\n",
    "        model = load(model_path)\n",
    "\n",
    "        # Prédiction\n",
    "        predictions[target] = model.predict(input_data)[0]\n",
    "\n",
    "    return predictions\n"
   ]
  },
  {
   "cell_type": "markdown",
   "id": "8b386de7",
   "metadata": {},
   "source": [
    "### Exemple d'utilisation : "
   ]
  },
  {
   "cell_type": "code",
   "execution_count": 23,
   "id": "878b1b55",
   "metadata": {},
   "outputs": [
    {
     "data": {
      "text/plain": [
       "{'primary_particle_size (nm)': 15.000000036308496,\n",
       " 'vol_equi_radius_outer (nm)': -7.186591466265358e-35,\n",
       " 'vol_equi_radius_inner (nm)': -6.85233393904115e-35,\n",
       " 'equi_mobility_dia (nm)': -5.646562155377851e-34,\n",
       " 'mass_bc (g)': -5.852047408073894e-51}"
      ]
     },
     "execution_count": 23,
     "metadata": {},
     "output_type": "execute_result"
    }
   ],
   "source": [
    "#'cr'=0.6\n",
    "#'bae'=-3.9\n",
    "#'fractal_dimension'=1.5\n",
    "#'fraction_of_coating'=0%\n",
    "\n",
    "Predict_parameters(0.6, -3.9, 1.5, 0)"
   ]
  },
  {
   "cell_type": "code",
   "execution_count": null,
   "id": "1241c071-6122-47e0-b74b-1fa974eb3dad",
   "metadata": {},
   "outputs": [],
   "source": []
  }
 ],
 "metadata": {
  "kernelspec": {
   "display_name": "Python 3 (ipykernel)",
   "language": "python",
   "name": "python3"
  },
  "language_info": {
   "codemirror_mode": {
    "name": "ipython",
    "version": 3
   },
   "file_extension": ".py",
   "mimetype": "text/x-python",
   "name": "python",
   "nbconvert_exporter": "python",
   "pygments_lexer": "ipython3",
   "version": "3.12.7"
  }
 },
 "nbformat": 4,
 "nbformat_minor": 5
}

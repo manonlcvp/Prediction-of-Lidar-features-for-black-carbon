{
 "cells": [
  {
   "cell_type": "markdown",
   "id": "c397a9e2",
   "metadata": {},
   "source": [
    "## Projet RI"
   ]
  },
  {
   "cell_type": "markdown",
   "id": "87495615",
   "metadata": {},
   "source": [
    "### Prédiction des caractéristiques physiques du carbone noir à l'aide de variables Lidar"
   ]
  },
  {
   "cell_type": "markdown",
   "id": "a1b7fe64",
   "metadata": {},
   "source": [
    "Ci-dessous est codée une fonction qui permet de renseigner les caractéristiques physiques d'une particule de carbone noir. Ces caractéristiques sont obtenues à partir de 4 élèments : la valeur de son Color Ration associé, de son Backscattering Angle Effect, de sa dimension fractale et pourcentage de coating.\n",
    "Pour obtenir ces informations, différents modèles de Machine Learning ont été entrainés au préalable et seulement les modèles donnant les meilleurs résultats ont été sélectionnés. Dans notre cas les meilleurs résultats ont été obtenus :\n",
    "- pour 'primary_particle_size (nm)': avec 'GBR',\n",
    "- pour 'vol_equi_radius_outer (nm)': avec 'KRR',\n",
    "- pour 'vol_equi_radius_inner (nm)': avec 'KRR',\n",
    "- pour 'equi_mobility_dia (nm)': avec 'KRR',\n",
    "- pour 'mass_bc (g)': avec 'KRR'"
   ]
  },
  {
   "cell_type": "markdown",
   "id": "29092a15",
   "metadata": {},
   "source": [
    "Pour utiliser la fonction 'Predict_parameters', veuillez renseigner les éléments suivants : \n",
    "- 'cr' : Color Ratio (float)\n",
    "- 'bae' : Backscattering Angle Effect (float)\n",
    "- 'fractal_dimension' : Dimension Fractale (float)\n",
    "- 'fraction_of_coating' : Pourcentage de Coating (integer, %)\n",
    "\n",
    "\n",
    "Si vous n'avez pas la valeur de CR ou BAE, entrez 0 à la place du paramètre."
   ]
  },
  {
   "cell_type": "markdown",
   "id": "8a44859b-aa1e-4513-8f55-6f8d651c75f9",
   "metadata": {},
   "source": [
    "**Indication :**\n",
    "\n",
    "Avant tout chose, assurez vous de télécharger l'excel 'df_cleaned' ainsi que les poids "
   ]
  },
  {
   "cell_type": "code",
   "execution_count": 48,
   "id": "02ad724a",
   "metadata": {},
   "outputs": [],
   "source": [
    "import numpy as np\n",
    "from joblib import load\n",
    "import os\n",
    "import pandas as pd\n",
    "from sklearn.preprocessing import StandardScaler\n",
    "scaler = StandardScaler()"
   ]
  },
  {
   "cell_type": "code",
   "execution_count": 59,
   "id": "28902e52-eda5-4e55-ae28-fce5ee279435",
   "metadata": {},
   "outputs": [
    {
     "data": {
      "text/html": [
       "<style>#sk-container-id-2 {\n",
       "  /* Definition of color scheme common for light and dark mode */\n",
       "  --sklearn-color-text: black;\n",
       "  --sklearn-color-line: gray;\n",
       "  /* Definition of color scheme for unfitted estimators */\n",
       "  --sklearn-color-unfitted-level-0: #fff5e6;\n",
       "  --sklearn-color-unfitted-level-1: #f6e4d2;\n",
       "  --sklearn-color-unfitted-level-2: #ffe0b3;\n",
       "  --sklearn-color-unfitted-level-3: chocolate;\n",
       "  /* Definition of color scheme for fitted estimators */\n",
       "  --sklearn-color-fitted-level-0: #f0f8ff;\n",
       "  --sklearn-color-fitted-level-1: #d4ebff;\n",
       "  --sklearn-color-fitted-level-2: #b3dbfd;\n",
       "  --sklearn-color-fitted-level-3: cornflowerblue;\n",
       "\n",
       "  /* Specific color for light theme */\n",
       "  --sklearn-color-text-on-default-background: var(--sg-text-color, var(--theme-code-foreground, var(--jp-content-font-color1, black)));\n",
       "  --sklearn-color-background: var(--sg-background-color, var(--theme-background, var(--jp-layout-color0, white)));\n",
       "  --sklearn-color-border-box: var(--sg-text-color, var(--theme-code-foreground, var(--jp-content-font-color1, black)));\n",
       "  --sklearn-color-icon: #696969;\n",
       "\n",
       "  @media (prefers-color-scheme: dark) {\n",
       "    /* Redefinition of color scheme for dark theme */\n",
       "    --sklearn-color-text-on-default-background: var(--sg-text-color, var(--theme-code-foreground, var(--jp-content-font-color1, white)));\n",
       "    --sklearn-color-background: var(--sg-background-color, var(--theme-background, var(--jp-layout-color0, #111)));\n",
       "    --sklearn-color-border-box: var(--sg-text-color, var(--theme-code-foreground, var(--jp-content-font-color1, white)));\n",
       "    --sklearn-color-icon: #878787;\n",
       "  }\n",
       "}\n",
       "\n",
       "#sk-container-id-2 {\n",
       "  color: var(--sklearn-color-text);\n",
       "}\n",
       "\n",
       "#sk-container-id-2 pre {\n",
       "  padding: 0;\n",
       "}\n",
       "\n",
       "#sk-container-id-2 input.sk-hidden--visually {\n",
       "  border: 0;\n",
       "  clip: rect(1px 1px 1px 1px);\n",
       "  clip: rect(1px, 1px, 1px, 1px);\n",
       "  height: 1px;\n",
       "  margin: -1px;\n",
       "  overflow: hidden;\n",
       "  padding: 0;\n",
       "  position: absolute;\n",
       "  width: 1px;\n",
       "}\n",
       "\n",
       "#sk-container-id-2 div.sk-dashed-wrapped {\n",
       "  border: 1px dashed var(--sklearn-color-line);\n",
       "  margin: 0 0.4em 0.5em 0.4em;\n",
       "  box-sizing: border-box;\n",
       "  padding-bottom: 0.4em;\n",
       "  background-color: var(--sklearn-color-background);\n",
       "}\n",
       "\n",
       "#sk-container-id-2 div.sk-container {\n",
       "  /* jupyter's `normalize.less` sets `[hidden] { display: none; }`\n",
       "     but bootstrap.min.css set `[hidden] { display: none !important; }`\n",
       "     so we also need the `!important` here to be able to override the\n",
       "     default hidden behavior on the sphinx rendered scikit-learn.org.\n",
       "     See: https://github.com/scikit-learn/scikit-learn/issues/21755 */\n",
       "  display: inline-block !important;\n",
       "  position: relative;\n",
       "}\n",
       "\n",
       "#sk-container-id-2 div.sk-text-repr-fallback {\n",
       "  display: none;\n",
       "}\n",
       "\n",
       "div.sk-parallel-item,\n",
       "div.sk-serial,\n",
       "div.sk-item {\n",
       "  /* draw centered vertical line to link estimators */\n",
       "  background-image: linear-gradient(var(--sklearn-color-text-on-default-background), var(--sklearn-color-text-on-default-background));\n",
       "  background-size: 2px 100%;\n",
       "  background-repeat: no-repeat;\n",
       "  background-position: center center;\n",
       "}\n",
       "\n",
       "/* Parallel-specific style estimator block */\n",
       "\n",
       "#sk-container-id-2 div.sk-parallel-item::after {\n",
       "  content: \"\";\n",
       "  width: 100%;\n",
       "  border-bottom: 2px solid var(--sklearn-color-text-on-default-background);\n",
       "  flex-grow: 1;\n",
       "}\n",
       "\n",
       "#sk-container-id-2 div.sk-parallel {\n",
       "  display: flex;\n",
       "  align-items: stretch;\n",
       "  justify-content: center;\n",
       "  background-color: var(--sklearn-color-background);\n",
       "  position: relative;\n",
       "}\n",
       "\n",
       "#sk-container-id-2 div.sk-parallel-item {\n",
       "  display: flex;\n",
       "  flex-direction: column;\n",
       "}\n",
       "\n",
       "#sk-container-id-2 div.sk-parallel-item:first-child::after {\n",
       "  align-self: flex-end;\n",
       "  width: 50%;\n",
       "}\n",
       "\n",
       "#sk-container-id-2 div.sk-parallel-item:last-child::after {\n",
       "  align-self: flex-start;\n",
       "  width: 50%;\n",
       "}\n",
       "\n",
       "#sk-container-id-2 div.sk-parallel-item:only-child::after {\n",
       "  width: 0;\n",
       "}\n",
       "\n",
       "/* Serial-specific style estimator block */\n",
       "\n",
       "#sk-container-id-2 div.sk-serial {\n",
       "  display: flex;\n",
       "  flex-direction: column;\n",
       "  align-items: center;\n",
       "  background-color: var(--sklearn-color-background);\n",
       "  padding-right: 1em;\n",
       "  padding-left: 1em;\n",
       "}\n",
       "\n",
       "\n",
       "/* Toggleable style: style used for estimator/Pipeline/ColumnTransformer box that is\n",
       "clickable and can be expanded/collapsed.\n",
       "- Pipeline and ColumnTransformer use this feature and define the default style\n",
       "- Estimators will overwrite some part of the style using the `sk-estimator` class\n",
       "*/\n",
       "\n",
       "/* Pipeline and ColumnTransformer style (default) */\n",
       "\n",
       "#sk-container-id-2 div.sk-toggleable {\n",
       "  /* Default theme specific background. It is overwritten whether we have a\n",
       "  specific estimator or a Pipeline/ColumnTransformer */\n",
       "  background-color: var(--sklearn-color-background);\n",
       "}\n",
       "\n",
       "/* Toggleable label */\n",
       "#sk-container-id-2 label.sk-toggleable__label {\n",
       "  cursor: pointer;\n",
       "  display: block;\n",
       "  width: 100%;\n",
       "  margin-bottom: 0;\n",
       "  padding: 0.5em;\n",
       "  box-sizing: border-box;\n",
       "  text-align: center;\n",
       "}\n",
       "\n",
       "#sk-container-id-2 label.sk-toggleable__label-arrow:before {\n",
       "  /* Arrow on the left of the label */\n",
       "  content: \"▸\";\n",
       "  float: left;\n",
       "  margin-right: 0.25em;\n",
       "  color: var(--sklearn-color-icon);\n",
       "}\n",
       "\n",
       "#sk-container-id-2 label.sk-toggleable__label-arrow:hover:before {\n",
       "  color: var(--sklearn-color-text);\n",
       "}\n",
       "\n",
       "/* Toggleable content - dropdown */\n",
       "\n",
       "#sk-container-id-2 div.sk-toggleable__content {\n",
       "  max-height: 0;\n",
       "  max-width: 0;\n",
       "  overflow: hidden;\n",
       "  text-align: left;\n",
       "  /* unfitted */\n",
       "  background-color: var(--sklearn-color-unfitted-level-0);\n",
       "}\n",
       "\n",
       "#sk-container-id-2 div.sk-toggleable__content.fitted {\n",
       "  /* fitted */\n",
       "  background-color: var(--sklearn-color-fitted-level-0);\n",
       "}\n",
       "\n",
       "#sk-container-id-2 div.sk-toggleable__content pre {\n",
       "  margin: 0.2em;\n",
       "  border-radius: 0.25em;\n",
       "  color: var(--sklearn-color-text);\n",
       "  /* unfitted */\n",
       "  background-color: var(--sklearn-color-unfitted-level-0);\n",
       "}\n",
       "\n",
       "#sk-container-id-2 div.sk-toggleable__content.fitted pre {\n",
       "  /* unfitted */\n",
       "  background-color: var(--sklearn-color-fitted-level-0);\n",
       "}\n",
       "\n",
       "#sk-container-id-2 input.sk-toggleable__control:checked~div.sk-toggleable__content {\n",
       "  /* Expand drop-down */\n",
       "  max-height: 200px;\n",
       "  max-width: 100%;\n",
       "  overflow: auto;\n",
       "}\n",
       "\n",
       "#sk-container-id-2 input.sk-toggleable__control:checked~label.sk-toggleable__label-arrow:before {\n",
       "  content: \"▾\";\n",
       "}\n",
       "\n",
       "/* Pipeline/ColumnTransformer-specific style */\n",
       "\n",
       "#sk-container-id-2 div.sk-label input.sk-toggleable__control:checked~label.sk-toggleable__label {\n",
       "  color: var(--sklearn-color-text);\n",
       "  background-color: var(--sklearn-color-unfitted-level-2);\n",
       "}\n",
       "\n",
       "#sk-container-id-2 div.sk-label.fitted input.sk-toggleable__control:checked~label.sk-toggleable__label {\n",
       "  background-color: var(--sklearn-color-fitted-level-2);\n",
       "}\n",
       "\n",
       "/* Estimator-specific style */\n",
       "\n",
       "/* Colorize estimator box */\n",
       "#sk-container-id-2 div.sk-estimator input.sk-toggleable__control:checked~label.sk-toggleable__label {\n",
       "  /* unfitted */\n",
       "  background-color: var(--sklearn-color-unfitted-level-2);\n",
       "}\n",
       "\n",
       "#sk-container-id-2 div.sk-estimator.fitted input.sk-toggleable__control:checked~label.sk-toggleable__label {\n",
       "  /* fitted */\n",
       "  background-color: var(--sklearn-color-fitted-level-2);\n",
       "}\n",
       "\n",
       "#sk-container-id-2 div.sk-label label.sk-toggleable__label,\n",
       "#sk-container-id-2 div.sk-label label {\n",
       "  /* The background is the default theme color */\n",
       "  color: var(--sklearn-color-text-on-default-background);\n",
       "}\n",
       "\n",
       "/* On hover, darken the color of the background */\n",
       "#sk-container-id-2 div.sk-label:hover label.sk-toggleable__label {\n",
       "  color: var(--sklearn-color-text);\n",
       "  background-color: var(--sklearn-color-unfitted-level-2);\n",
       "}\n",
       "\n",
       "/* Label box, darken color on hover, fitted */\n",
       "#sk-container-id-2 div.sk-label.fitted:hover label.sk-toggleable__label.fitted {\n",
       "  color: var(--sklearn-color-text);\n",
       "  background-color: var(--sklearn-color-fitted-level-2);\n",
       "}\n",
       "\n",
       "/* Estimator label */\n",
       "\n",
       "#sk-container-id-2 div.sk-label label {\n",
       "  font-family: monospace;\n",
       "  font-weight: bold;\n",
       "  display: inline-block;\n",
       "  line-height: 1.2em;\n",
       "}\n",
       "\n",
       "#sk-container-id-2 div.sk-label-container {\n",
       "  text-align: center;\n",
       "}\n",
       "\n",
       "/* Estimator-specific */\n",
       "#sk-container-id-2 div.sk-estimator {\n",
       "  font-family: monospace;\n",
       "  border: 1px dotted var(--sklearn-color-border-box);\n",
       "  border-radius: 0.25em;\n",
       "  box-sizing: border-box;\n",
       "  margin-bottom: 0.5em;\n",
       "  /* unfitted */\n",
       "  background-color: var(--sklearn-color-unfitted-level-0);\n",
       "}\n",
       "\n",
       "#sk-container-id-2 div.sk-estimator.fitted {\n",
       "  /* fitted */\n",
       "  background-color: var(--sklearn-color-fitted-level-0);\n",
       "}\n",
       "\n",
       "/* on hover */\n",
       "#sk-container-id-2 div.sk-estimator:hover {\n",
       "  /* unfitted */\n",
       "  background-color: var(--sklearn-color-unfitted-level-2);\n",
       "}\n",
       "\n",
       "#sk-container-id-2 div.sk-estimator.fitted:hover {\n",
       "  /* fitted */\n",
       "  background-color: var(--sklearn-color-fitted-level-2);\n",
       "}\n",
       "\n",
       "/* Specification for estimator info (e.g. \"i\" and \"?\") */\n",
       "\n",
       "/* Common style for \"i\" and \"?\" */\n",
       "\n",
       ".sk-estimator-doc-link,\n",
       "a:link.sk-estimator-doc-link,\n",
       "a:visited.sk-estimator-doc-link {\n",
       "  float: right;\n",
       "  font-size: smaller;\n",
       "  line-height: 1em;\n",
       "  font-family: monospace;\n",
       "  background-color: var(--sklearn-color-background);\n",
       "  border-radius: 1em;\n",
       "  height: 1em;\n",
       "  width: 1em;\n",
       "  text-decoration: none !important;\n",
       "  margin-left: 1ex;\n",
       "  /* unfitted */\n",
       "  border: var(--sklearn-color-unfitted-level-1) 1pt solid;\n",
       "  color: var(--sklearn-color-unfitted-level-1);\n",
       "}\n",
       "\n",
       ".sk-estimator-doc-link.fitted,\n",
       "a:link.sk-estimator-doc-link.fitted,\n",
       "a:visited.sk-estimator-doc-link.fitted {\n",
       "  /* fitted */\n",
       "  border: var(--sklearn-color-fitted-level-1) 1pt solid;\n",
       "  color: var(--sklearn-color-fitted-level-1);\n",
       "}\n",
       "\n",
       "/* On hover */\n",
       "div.sk-estimator:hover .sk-estimator-doc-link:hover,\n",
       ".sk-estimator-doc-link:hover,\n",
       "div.sk-label-container:hover .sk-estimator-doc-link:hover,\n",
       ".sk-estimator-doc-link:hover {\n",
       "  /* unfitted */\n",
       "  background-color: var(--sklearn-color-unfitted-level-3);\n",
       "  color: var(--sklearn-color-background);\n",
       "  text-decoration: none;\n",
       "}\n",
       "\n",
       "div.sk-estimator.fitted:hover .sk-estimator-doc-link.fitted:hover,\n",
       ".sk-estimator-doc-link.fitted:hover,\n",
       "div.sk-label-container:hover .sk-estimator-doc-link.fitted:hover,\n",
       ".sk-estimator-doc-link.fitted:hover {\n",
       "  /* fitted */\n",
       "  background-color: var(--sklearn-color-fitted-level-3);\n",
       "  color: var(--sklearn-color-background);\n",
       "  text-decoration: none;\n",
       "}\n",
       "\n",
       "/* Span, style for the box shown on hovering the info icon */\n",
       ".sk-estimator-doc-link span {\n",
       "  display: none;\n",
       "  z-index: 9999;\n",
       "  position: relative;\n",
       "  font-weight: normal;\n",
       "  right: .2ex;\n",
       "  padding: .5ex;\n",
       "  margin: .5ex;\n",
       "  width: min-content;\n",
       "  min-width: 20ex;\n",
       "  max-width: 50ex;\n",
       "  color: var(--sklearn-color-text);\n",
       "  box-shadow: 2pt 2pt 4pt #999;\n",
       "  /* unfitted */\n",
       "  background: var(--sklearn-color-unfitted-level-0);\n",
       "  border: .5pt solid var(--sklearn-color-unfitted-level-3);\n",
       "}\n",
       "\n",
       ".sk-estimator-doc-link.fitted span {\n",
       "  /* fitted */\n",
       "  background: var(--sklearn-color-fitted-level-0);\n",
       "  border: var(--sklearn-color-fitted-level-3);\n",
       "}\n",
       "\n",
       ".sk-estimator-doc-link:hover span {\n",
       "  display: block;\n",
       "}\n",
       "\n",
       "/* \"?\"-specific style due to the `<a>` HTML tag */\n",
       "\n",
       "#sk-container-id-2 a.estimator_doc_link {\n",
       "  float: right;\n",
       "  font-size: 1rem;\n",
       "  line-height: 1em;\n",
       "  font-family: monospace;\n",
       "  background-color: var(--sklearn-color-background);\n",
       "  border-radius: 1rem;\n",
       "  height: 1rem;\n",
       "  width: 1rem;\n",
       "  text-decoration: none;\n",
       "  /* unfitted */\n",
       "  color: var(--sklearn-color-unfitted-level-1);\n",
       "  border: var(--sklearn-color-unfitted-level-1) 1pt solid;\n",
       "}\n",
       "\n",
       "#sk-container-id-2 a.estimator_doc_link.fitted {\n",
       "  /* fitted */\n",
       "  border: var(--sklearn-color-fitted-level-1) 1pt solid;\n",
       "  color: var(--sklearn-color-fitted-level-1);\n",
       "}\n",
       "\n",
       "/* On hover */\n",
       "#sk-container-id-2 a.estimator_doc_link:hover {\n",
       "  /* unfitted */\n",
       "  background-color: var(--sklearn-color-unfitted-level-3);\n",
       "  color: var(--sklearn-color-background);\n",
       "  text-decoration: none;\n",
       "}\n",
       "\n",
       "#sk-container-id-2 a.estimator_doc_link.fitted:hover {\n",
       "  /* fitted */\n",
       "  background-color: var(--sklearn-color-fitted-level-3);\n",
       "}\n",
       "</style><div id=\"sk-container-id-2\" class=\"sk-top-container\"><div class=\"sk-text-repr-fallback\"><pre>StandardScaler()</pre><b>In a Jupyter environment, please rerun this cell to show the HTML representation or trust the notebook. <br />On GitHub, the HTML representation is unable to render, please try loading this page with nbviewer.org.</b></div><div class=\"sk-container\" hidden><div class=\"sk-item\"><div class=\"sk-estimator fitted sk-toggleable\"><input class=\"sk-toggleable__control sk-hidden--visually\" id=\"sk-estimator-id-2\" type=\"checkbox\" checked><label for=\"sk-estimator-id-2\" class=\"sk-toggleable__label fitted sk-toggleable__label-arrow fitted\">&nbsp;&nbsp;StandardScaler<a class=\"sk-estimator-doc-link fitted\" rel=\"noreferrer\" target=\"_blank\" href=\"https://scikit-learn.org/1.5/modules/generated/sklearn.preprocessing.StandardScaler.html\">?<span>Documentation for StandardScaler</span></a><span class=\"sk-estimator-doc-link fitted\">i<span>Fitted</span></span></label><div class=\"sk-toggleable__content fitted\"><pre>StandardScaler()</pre></div> </div></div></div></div>"
      ],
      "text/plain": [
       "StandardScaler()"
      ]
     },
     "execution_count": 59,
     "metadata": {},
     "output_type": "execute_result"
    }
   ],
   "source": [
    "df = pd.read_excel('./df_cleaned.xlsx')\n",
    "\n",
    "X = df.iloc[:, 2:23]  # données particules\n",
    "Y = df.iloc[:,23:31]  # données optiques\n",
    "L_all = df.iloc[:, [0, 1] + list(range(31, df.shape[1]))]\n",
    "\n",
    "# Sans BAE \n",
    "L_CR = L_all.iloc[:,0:3]\n",
    "\n",
    "# Sans CR \n",
    "L_BAE = L_all.drop(L_all.columns[2], axis=1)\n",
    "\n",
    "X_test_all=L_all.reset_index(drop=True)\n",
    "X_test_CR=L_CR.reset_index(drop=True)\n",
    "X_test_BAE =L_BAE.reset_index(drop=True)\n",
    "\n",
    "scaler_all = StandardScaler()\n",
    "scaler_CR = StandardScaler()\n",
    "scaler_BAE  = StandardScaler()\n",
    "\n",
    "scaler_all.fit(X_test_all)   #pt.transform(X_test)\n",
    "scaler_CR.fit(X_test_CR)\n",
    "scaler_BAE.fit(X_test_BAE)"
   ]
  },
  {
   "cell_type": "code",
   "execution_count": 60,
   "id": "bfa37a2f",
   "metadata": {},
   "outputs": [],
   "source": [
    "# Si vous n'avez pas les valeurs de CR ou BAE rentrez 0 comme argument \n",
    "# Pensez à changer l'argument model_dir en fonction de la localisation des poids sur votre PC \n",
    "def Predict_parameters(cr, bae, fractal_dimension, fraction_of_coating):\n",
    "\n",
    "    # Variable à prédire\n",
    "    var_target = {\n",
    "         'primary_particle_size (nm)': 'GBR',\n",
    "         'vol_equi_radius_outer (nm)': 'KRR',\n",
    "         'vol_equi_radius_inner (nm)': 'KRR',\n",
    "         'equi_mobility_dia (nm)': 'KRR',\n",
    "         'mass_bc (g)': 'KRR'}\n",
    "     # Répertoire des modèles sauvegardés\n",
    "    if cr == 0 : \n",
    "        model_dir = \"./Best_models/L_X_BAE_best_models\"\n",
    "        input_data = np.array([fractal_dimension, fraction_of_coating,bae]).reshape(1, -1)\n",
    "        input_data = scaler_BAE.transform(input_data)\n",
    "        print(input_data)\n",
    "        r2_values = {\n",
    "            'R2 primary_particle_size (nm)': 1 ,\n",
    "            'R2 vol_equi_radius_outer (nm)': 0.917,\n",
    "            'R2 vol_equi_radius_inner (nm)': 0.925,\n",
    "            'R2 equi_mobility_dia (nm)': 0.915,\n",
    "            'R2 mass_bc (g)': 0.85\n",
    "        }\n",
    "    elif bae == 0 :\n",
    "        model_dir = \"./Best_models/L_X_CR_best_models\"\n",
    "        input_data = np.array([fractal_dimension, fraction_of_coating,cr]).reshape(1, -1)\n",
    "        input_data = scaler_CR.transform(input_data)\n",
    "        print(input_data)\n",
    "        r2_values = {\n",
    "            'R2 primary_particle_size (nm)': 1 ,\n",
    "            'R2 vol_equi_radius_outer (nm)': 0.916,\n",
    "            'R2 vol_equi_radius_inner (nm)': 0.924,\n",
    "            'R2 equi_mobility_dia (nm)': 0.912,\n",
    "            'R2 mass_bc (g)': 0.53\n",
    "        }\n",
    "        \n",
    "    else : \n",
    "        model_dir = \"Best_models/L_X_best_models\"\n",
    "        input_data = np.array([fractal_dimension, fraction_of_coating,cr,bae]).reshape(1, -1)\n",
    "        input_data = scaler_all.transform(input_data)\n",
    "        print(input_data)\n",
    "        r2_values = {\n",
    "            'R2 primary_particle_size (nm)': 1,\n",
    "            'R2 vol_equi_radius_outer (nm)': 0.916,\n",
    "            'R2 vol_equi_radius_inner (nm)': 0.924,\n",
    "            'R2 equi_mobility_dia (nm)': 0.912,\n",
    "            'R2 mass_bc (g)': 0.54\n",
    "        }\n",
    "        \n",
    "        \n",
    "\n",
    "    # Données d'entrée pour la prédiction\n",
    "\n",
    "    predictions = {}\n",
    "    \n",
    "    #Pour chaque variable target on effectue la prédiction sur son modèle associé\n",
    "    for target, model_type in var_target.items():\n",
    "        \n",
    "        # Chemin du modèle\n",
    "        model_path = os.path.join(model_dir, f'{target}_best_model_{model_type}.joblib')\n",
    "        # Vérification de l'existence du fichier\n",
    "        if not os.path.exists(model_path):\n",
    "            raise FileNotFoundError(f\"Modèle pour '{target}' introuvable à {model_path}\")\n",
    "\n",
    "        # Chargement du modèle\n",
    "        model = load(model_path)\n",
    "        # Prédiction\n",
    "        predictions[target] = np.abs(model.predict(input_data)[0]) #ces valeurs doivent être positives \n",
    "\n",
    "    return predictions,r2_values\n"
   ]
  },
  {
   "cell_type": "markdown",
   "id": "8b386de7",
   "metadata": {},
   "source": [
    "### Exemple d'utilisation : "
   ]
  },
  {
   "cell_type": "markdown",
   "id": "b8984647-be70-449d-8cf8-68af84e66602",
   "metadata": {},
   "source": [
    "#### Exemple fictif "
   ]
  },
  {
   "cell_type": "code",
   "execution_count": 66,
   "id": "878b1b55",
   "metadata": {},
   "outputs": [
    {
     "name": "stdout",
     "output_type": "stream",
     "text": [
      "[[-1.41299233 -1.1845503  -0.8756944 ]]\n"
     ]
    },
    {
     "name": "stderr",
     "output_type": "stream",
     "text": [
      "C:\\Users\\misse\\anaconda3\\Lib\\site-packages\\sklearn\\base.py:493: UserWarning: X does not have valid feature names, but StandardScaler was fitted with feature names\n",
      "  warnings.warn(\n"
     ]
    },
    {
     "data": {
      "text/plain": [
       "({'primary_particle_size (nm)': 15.100000011512149,\n",
       "  'vol_equi_radius_outer (nm)': 22.58890496251354,\n",
       "  'vol_equi_radius_inner (nm)': 22.43995978986586,\n",
       "  'equi_mobility_dia (nm)': 45.439233550627776,\n",
       "  'mass_bc (g)': 6.342500567279678e-17},\n",
       " {'R2 primary_particle_size (nm)': 1,\n",
       "  'R2 vol_equi_radius_outer (nm)': 0.917,\n",
       "  'R2 vol_equi_radius_inner (nm)': 0.925,\n",
       "  'R2 equi_mobility_dia (nm)': 0.915,\n",
       "  'R2 mass_bc (g)': 0.85})"
      ]
     },
     "execution_count": 66,
     "metadata": {},
     "output_type": "execute_result"
    }
   ],
   "source": [
    "# Si pas de valeurs de CR et BAE mettre 0 à la place \n",
    "# Les valeurs de R2 nous donne une indication sur l'accuracy \n",
    "\n",
    "#'cr', n'a pas de valeur \n",
    "#'bae'=-3.9\n",
    "#'fractal_dimension'=1.5\n",
    "#'fraction_of_coating'=0%\n",
    "\n",
    "Predict_parameters(0, -3.9 , 1.5, 1)"
   ]
  },
  {
   "cell_type": "code",
   "execution_count": 67,
   "id": "1cce2b93-dda4-451f-a1af-ed10a3663e8c",
   "metadata": {},
   "outputs": [
    {
     "name": "stdout",
     "output_type": "stream",
     "text": [
      "[[-1.41299233 -0.62179932 -1.02378737]]\n"
     ]
    },
    {
     "name": "stderr",
     "output_type": "stream",
     "text": [
      "C:\\Users\\misse\\anaconda3\\Lib\\site-packages\\sklearn\\base.py:493: UserWarning: X does not have valid feature names, but StandardScaler was fitted with feature names\n",
      "  warnings.warn(\n"
     ]
    },
    {
     "data": {
      "text/plain": [
       "({'primary_particle_size (nm)': 15.800000003353945,\n",
       "  'vol_equi_radius_outer (nm)': 26.722569126737604,\n",
       "  'vol_equi_radius_inner (nm)': 25.315966770429988,\n",
       "  'equi_mobility_dia (nm)': 56.76044587271012,\n",
       "  'mass_bc (g)': 7.287019822337014e-17},\n",
       " {'R2 primary_particle_size (nm)': 1,\n",
       "  'R2 vol_equi_radius_outer (nm)': 0.916,\n",
       "  'R2 vol_equi_radius_inner (nm)': 0.924,\n",
       "  'R2 equi_mobility_dia (nm)': 0.912,\n",
       "  'R2 mass_bc (g)': 0.53})"
      ]
     },
     "execution_count": 67,
     "metadata": {},
     "output_type": "execute_result"
    }
   ],
   "source": [
    "#'cr'=0.8 \n",
    "#'bae' n'a pas de valeur \n",
    "#'fractal_dimension'=1.8\n",
    "#'fraction_of_coating'=20%\n",
    "\n",
    "Predict_parameters(0.6, 0 , 1.5, 15)"
   ]
  },
  {
   "cell_type": "code",
   "execution_count": 68,
   "id": "3371a203-6301-4973-ad4a-c9406fd3c314",
   "metadata": {},
   "outputs": [
    {
     "name": "stdout",
     "output_type": "stream",
     "text": [
      "[[-0.34784933 -0.42081683  1.65934161  0.38618727]]\n"
     ]
    },
    {
     "name": "stderr",
     "output_type": "stream",
     "text": [
      "C:\\Users\\misse\\anaconda3\\Lib\\site-packages\\sklearn\\base.py:493: UserWarning: X does not have valid feature names, but StandardScaler was fitted with feature names\n",
      "  warnings.warn(\n"
     ]
    },
    {
     "data": {
      "text/plain": [
       "({'primary_particle_size (nm)': 16.20000000091781,\n",
       "  'vol_equi_radius_outer (nm)': 0.0011519513986543144,\n",
       "  'vol_equi_radius_inner (nm)': 0.0010905446508611347,\n",
       "  'equi_mobility_dia (nm)': 0.007044880868001489,\n",
       "  'mass_bc (g)': 9.833607505725366e-20},\n",
       " {'R2 primary_particle_size (nm)': 1,\n",
       "  'R2 vol_equi_radius_outer (nm)': 0.916,\n",
       "  'R2 vol_equi_radius_inner (nm)': 0.924,\n",
       "  'R2 equi_mobility_dia (nm)': 0.912,\n",
       "  'R2 mass_bc (g)': 0.54})"
      ]
     },
     "execution_count": 68,
     "metadata": {},
     "output_type": "execute_result"
    }
   ],
   "source": [
    "#'cr'=0.8 \n",
    "#'bae'=-2.8\n",
    "#'fractal_dimension'=1.8\n",
    "#'fraction_of_coating'=20%\n",
    "\n",
    "Predict_parameters(0.8, -2.8 , 1.8, 20)"
   ]
  },
  {
   "cell_type": "markdown",
   "id": "896e86cb-6d90-434b-abc3-00a5a736f6cd",
   "metadata": {},
   "source": [
    "#### Exemple avec valeurs du jeu de données "
   ]
  },
  {
   "cell_type": "code",
   "execution_count": 69,
   "id": "c60a7508-5e17-4bbc-834d-47508a31199b",
   "metadata": {},
   "outputs": [
    {
     "name": "stdout",
     "output_type": "stream",
     "text": [
      "[[-0.70289699  0.38311314 -0.13449737 -0.08247972]]\n"
     ]
    },
    {
     "name": "stderr",
     "output_type": "stream",
     "text": [
      "C:\\Users\\misse\\anaconda3\\Lib\\site-packages\\sklearn\\base.py:493: UserWarning: X does not have valid feature names, but StandardScaler was fitted with feature names\n",
      "  warnings.warn(\n"
     ]
    },
    {
     "data": {
      "text/plain": [
       "({'primary_particle_size (nm)': 17.799999996956316,\n",
       "  'vol_equi_radius_outer (nm)': 157.12902535048357,\n",
       "  'vol_equi_radius_inner (nm)': 132.31977926855507,\n",
       "  'equi_mobility_dia (nm)': 795.368182419443,\n",
       "  'mass_bc (g)': 1.3100853246883575e-14},\n",
       " {'R2 primary_particle_size (nm)': 1,\n",
       "  'R2 vol_equi_radius_outer (nm)': 0.916,\n",
       "  'R2 vol_equi_radius_inner (nm)': 0.924,\n",
       "  'R2 equi_mobility_dia (nm)': 0.912,\n",
       "  'R2 mass_bc (g)': 0.54})"
      ]
     },
     "execution_count": 69,
     "metadata": {},
     "output_type": "execute_result"
    }
   ],
   "source": [
    "cr=0.66628753296408\n",
    "bae= -3.20854360536531\n",
    "fractal_dimension=1.7\n",
    "fraction_of_coating =40 #%\n",
    "\n",
    "Predict_parameters(cr, bae ,fractal_dimension , fraction_of_coating)\n",
    "\n",
    "# On attent \n",
    "# primary_particle_size (nm) = 17,8 \n",
    "#'vol_equi_radius_outer (nm)' = 165\n",
    "# vol_equi_radius_inner (nm) = 139 \n",
    "# equi_mobility_dia (nm) = 855\n",
    "# mass_bc (g)' = 1,7 e-14"
   ]
  },
  {
   "cell_type": "code",
   "execution_count": 70,
   "id": "70a0200a-536a-4f00-8be7-73a1215821ec",
   "metadata": {},
   "outputs": [
    {
     "name": "stdout",
     "output_type": "stream",
     "text": [
      "[[-1.41299233 -0.62179932  0.28346828  0.33178476]]\n"
     ]
    },
    {
     "name": "stderr",
     "output_type": "stream",
     "text": [
      "C:\\Users\\misse\\anaconda3\\Lib\\site-packages\\sklearn\\base.py:493: UserWarning: X does not have valid feature names, but StandardScaler was fitted with feature names\n",
      "  warnings.warn(\n"
     ]
    },
    {
     "data": {
      "text/plain": [
       "({'primary_particle_size (nm)': 15.800000003353947,\n",
       "  'vol_equi_radius_outer (nm)': 116.13884652565329,\n",
       "  'vol_equi_radius_inner (nm)': 110.11392705223531,\n",
       "  'equi_mobility_dia (nm)': 533.1303527868462,\n",
       "  'mass_bc (g)': 8.921608373220716e-15},\n",
       " {'R2 primary_particle_size (nm)': 1,\n",
       "  'R2 vol_equi_radius_outer (nm)': 0.916,\n",
       "  'R2 vol_equi_radius_inner (nm)': 0.924,\n",
       "  'R2 equi_mobility_dia (nm)': 0.912,\n",
       "  'R2 mass_bc (g)': 0.54})"
      ]
     },
     "execution_count": 70,
     "metadata": {},
     "output_type": "execute_result"
    }
   ],
   "source": [
    "cr=0.697442625\n",
    "bae= -2.847423437\n",
    "fractal_dimension=1.5\n",
    "fraction_of_coating =15 #%\n",
    "\n",
    "Predict_parameters(cr, bae ,fractal_dimension , fraction_of_coating)\n",
    "\n",
    "# On attent \n",
    "# primary_particle_size (nm) = 15,8\n",
    "#'vol_equi_radius_outer (nm)' = 116,4153954\n",
    "# vol_equi_radius_inner (nm) = 110,520945 \n",
    "# equi_mobility_dia (nm) = 533,007323\n",
    "# mass_bc (g)' = 8,48E-15"
   ]
  },
  {
   "cell_type": "code",
   "execution_count": 71,
   "id": "cd2b37a0",
   "metadata": {},
   "outputs": [
    {
     "name": "stdout",
     "output_type": "stream",
     "text": [
      "[[-0.70289699 -1.2247468  -0.94299051 -0.94188583]]\n"
     ]
    },
    {
     "name": "stderr",
     "output_type": "stream",
     "text": [
      "C:\\Users\\misse\\anaconda3\\Lib\\site-packages\\sklearn\\base.py:493: UserWarning: X does not have valid feature names, but StandardScaler was fitted with feature names\n",
      "  warnings.warn(\n"
     ]
    },
    {
     "data": {
      "text/plain": [
       "({'primary_particle_size (nm)': 15.000000036308496,\n",
       "  'vol_equi_radius_outer (nm)': 18.780275056168755,\n",
       "  'vol_equi_radius_inner (nm)': 18.732138028052567,\n",
       "  'equi_mobility_dia (nm)': 34.4159296951012,\n",
       "  'mass_bc (g)': 5.779276916362057e-17},\n",
       " {'R2 primary_particle_size (nm)': 1,\n",
       "  'R2 vol_equi_radius_outer (nm)': 0.916,\n",
       "  'R2 vol_equi_radius_inner (nm)': 0.924,\n",
       "  'R2 equi_mobility_dia (nm)': 0.912,\n",
       "  'R2 mass_bc (g)': 0.54})"
      ]
     },
     "execution_count": 71,
     "metadata": {},
     "output_type": "execute_result"
    }
   ],
   "source": [
    "cr=0.606022585\n",
    "bae= -3.957699995\n",
    "fractal_dimension=1.7\n",
    "fraction_of_coating =0 #%\n",
    "\n",
    "Predict_parameters(cr, bae ,fractal_dimension , fraction_of_coating)\n",
    "\n",
    "# On attent \n",
    "# primary_particle_size (nm) = 16,2\n",
    "#'vol_equi_radius_outer (nm)' = 12,85794852\n",
    "# vol_equi_radius_inner (nm) = 11,90550789\n",
    "# equi_mobility_dia (nm) = 18,07237419\n",
    "# mass_bc (g)' =1,06E-17"
   ]
  },
  {
   "cell_type": "code",
   "execution_count": 72,
   "id": "5d3fa60e",
   "metadata": {},
   "outputs": [
    {
     "name": "stdout",
     "output_type": "stream",
     "text": [
      "[[ 0.00719834 -0.01885185 -1.26355289 -1.30654708]]\n"
     ]
    },
    {
     "name": "stderr",
     "output_type": "stream",
     "text": [
      "C:\\Users\\misse\\anaconda3\\Lib\\site-packages\\sklearn\\base.py:493: UserWarning: X does not have valid feature names, but StandardScaler was fitted with feature names\n",
      "  warnings.warn(\n"
     ]
    },
    {
     "data": {
      "text/plain": [
       "({'primary_particle_size (nm)': 16.899999998433167,\n",
       "  'vol_equi_radius_outer (nm)': 33.685307025364324,\n",
       "  'vol_equi_radius_inner (nm)': 29.868461018088375,\n",
       "  'equi_mobility_dia (nm)': 77.85654325335973,\n",
       "  'mass_bc (g)': 1.4963798619463382e-16},\n",
       " {'R2 primary_particle_size (nm)': 1,\n",
       "  'R2 vol_equi_radius_outer (nm)': 0.916,\n",
       "  'R2 vol_equi_radius_inner (nm)': 0.924,\n",
       "  'R2 equi_mobility_dia (nm)': 0.912,\n",
       "  'R2 mass_bc (g)': 0.54})"
      ]
     },
     "execution_count": 72,
     "metadata": {},
     "output_type": "execute_result"
    }
   ],
   "source": [
    "cr=0.582127917\n",
    "bae= -4.275580337\n",
    "fractal_dimension=1.9\n",
    "fraction_of_coating =30 #%\n",
    "\n",
    "Predict_parameters(cr, bae ,fractal_dimension , fraction_of_coating)\n",
    "\n",
    "# On attent \n",
    "# primary_particle_size (nm) =16,9\n",
    "#'vol_equi_radius_outer (nm)' = 35,15341661\n",
    "# vol_equi_radius_inner (nm) = 31,20125735\n",
    "# equi_mobility_dia (nm) = 82,33336731\n",
    "# mass_bc (g)' = 1,91E-16"
   ]
  },
  {
   "cell_type": "code",
   "execution_count": null,
   "id": "c544986e-880d-4224-9fe1-4ff93278923f",
   "metadata": {},
   "outputs": [],
   "source": []
  }
 ],
 "metadata": {
  "kernelspec": {
   "display_name": "Python 3 (ipykernel)",
   "language": "python",
   "name": "python3"
  },
  "language_info": {
   "codemirror_mode": {
    "name": "ipython",
    "version": 3
   },
   "file_extension": ".py",
   "mimetype": "text/x-python",
   "name": "python",
   "nbconvert_exporter": "python",
   "pygments_lexer": "ipython3",
   "version": "3.12.7"
  }
 },
 "nbformat": 4,
 "nbformat_minor": 5
}

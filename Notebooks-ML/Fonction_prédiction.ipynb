{
 "cells": [
  {
   "cell_type": "markdown",
   "id": "c397a9e2",
   "metadata": {},
   "source": [
    "## Projet RI"
   ]
  },
  {
   "cell_type": "markdown",
   "id": "87495615",
   "metadata": {},
   "source": [
    "### Prédiction des caractéristiques physiques du carbone noir à l'aide de variables Lidar"
   ]
  },
  {
   "cell_type": "markdown",
   "id": "a1b7fe64",
   "metadata": {},
   "source": [
    "Ci-dessous est codée une fonction qui permet de renseigner les caractéristiques physiques d'une particule de carbone noir. Ces caractéristiques sont obtenues à partir de 4 élèments : la valeur de son Color Ration associé, de son Backscattering Angle Effect, de sa dimension fractale et pourcentage de coating.\n",
    "Pour obtenir ces informations, différents modèles de Machine Learning ont été entrainés au préalable et seulement les modèles donnant les meilleurs résultats ont été sélectionnés. Dans notre cas les meilleurs résultats ont été obtenus :\n",
    "- pour 'primary_particle_size (nm)': avec 'GBR',\n",
    "- pour 'vol_equi_radius_outer (nm)': avec 'KRR',\n",
    "- pour 'vol_equi_radius_inner (nm)': avec 'KRR',\n",
    "- pour 'equi_mobility_dia (nm)': avec 'KRR',\n",
    "- pour 'mass_bc (g)': avec 'KRR'"
   ]
  },
  {
   "cell_type": "markdown",
   "id": "29092a15",
   "metadata": {},
   "source": [
    "Pour utiliser la fonction 'Predict_parameters', veuillez renseigner les éléments suivants : \n",
    "- 'cr' : Color Ratio (float)\n",
    "- 'bae' : Backscattering Angle Effect (float)\n",
    "- 'fractal_dimension' : Dimension Fractale (float)\n",
    "- 'fraction_of_coating' : Pourcentage de Coating (integer, %)"
   ]
  },
  {
   "cell_type": "code",
   "execution_count": 1,
   "id": "02ad724a",
   "metadata": {},
   "outputs": [],
   "source": [
    "import numpy as np\n",
    "from joblib import load\n",
    "import os\n",
    "from sklearn.preprocessing import StandardScaler\n",
    "scaler = StandardScaler()"
   ]
  },
  {
   "cell_type": "code",
   "execution_count": 5,
   "id": "bfa37a2f",
   "metadata": {},
   "outputs": [],
   "source": [
    "# Si vous n'avez pas les valeurs de CR ou BAE rentrez 0 comme argument \n",
    "# Conseil : pour les volumes la prédiction sera plus précise en utilisant \n",
    "def Predict_parameters(cr, bae, fractal_dimension, fraction_of_coating):\n",
    "\n",
    "    # Variable à prédire\n",
    "    var_target = {\n",
    "         'primary_particle_size (nm)': 'GBR',\n",
    "         'vol_equi_radius_outer (nm)': 'KRR',\n",
    "         'vol_equi_radius_inner (nm)': 'KRR',\n",
    "         'equi_mobility_dia (nm)': 'KRR',\n",
    "         'mass_bc (g)': 'KRR'}\n",
    "     # Répertoire des modèles sauvegardés\n",
    "    if cr == 0 : \n",
    "        model_dir = \"./Best_models/L_X_BAE_best_models\"\n",
    "        input_data = np.array([bae, fractal_dimension, fraction_of_coating]).reshape(1, -1)\n",
    "        input_data =  scaler.fit_transform(input_data)\n",
    "        r2_values = {\n",
    "            'R2 primary_particle_size (nm)': 1 ,\n",
    "            'R2 vol_equi_radius_outer (nm)': 0.917,\n",
    "            'R2 vol_equi_radius_inner (nm)': 0.925,\n",
    "            'R2 equi_mobility_dia (nm)': 0.915,\n",
    "            'R2 mass_bc (g)': 0.85\n",
    "        }\n",
    "    elif bae == 0 :\n",
    "        model_dir = \"./Best_models/L_X_CR_best_models\"\n",
    "        input_data = np.array([cr, fractal_dimension, fraction_of_coating]).reshape(1, -1)\n",
    "        input_data =  scaler.fit_transform(input_data)\n",
    "        r2_values = {\n",
    "            'R2 primary_particle_size (nm)': 1 ,\n",
    "            'R2 vol_equi_radius_outer (nm)': 0.916,\n",
    "            'R2 vol_equi_radius_inner (nm)': 0.924,\n",
    "            'R2 equi_mobility_dia (nm)': 0.912,\n",
    "            'R2 mass_bc (g)': 0.53\n",
    "        }\n",
    "        \n",
    "    else : \n",
    "        model_dir = \"./Best_models/L_X_best_models\"\n",
    "        input_data = np.array([cr, bae, fractal_dimension, fraction_of_coating]).reshape(1, -1)\n",
    "        input_data =  scaler.fit_transform(input_data) \n",
    "        r2_values = {\n",
    "            'R2 primary_particle_size (nm)': 1,\n",
    "            'R2 vol_equi_radius_outer (nm)': 0.916,\n",
    "            'R2 vol_equi_radius_inner (nm)': 0.924,\n",
    "            'R2 equi_mobility_dia (nm)': 0.912,\n",
    "            'R2 mass_bc (g)': 0.54\n",
    "        }\n",
    "        \n",
    "        \n",
    "\n",
    "    # Données d'entrée pour la prédiction\n",
    "\n",
    "    predictions = {}\n",
    "    \n",
    "    #Pour chaque variable target on effectue la prédiction sur son modèle associé\n",
    "    for target, model_type in var_target.items():\n",
    "        \n",
    "        # Chemin du modèle\n",
    "        model_path = os.path.join(model_dir, f'{target}_best_model_{model_type}.joblib')\n",
    "        # Vérification de l'existence du fichier\n",
    "        if not os.path.exists(model_path):\n",
    "            raise FileNotFoundError(f\"Modèle pour '{target}' introuvable à {model_path}\")\n",
    "\n",
    "        # Chargement du modèle\n",
    "        model = load(model_path)\n",
    "        # Prédiction\n",
    "        predictions[target] = np.abs(model.predict(input_data)[0]) #ces valeurs doivent être positives \n",
    "\n",
    "    return predictions,r2_values\n"
   ]
  },
  {
   "cell_type": "markdown",
   "id": "8b386de7",
   "metadata": {},
   "source": [
    "### Exemple d'utilisation : "
   ]
  },
  {
   "cell_type": "markdown",
   "id": "b8984647-be70-449d-8cf8-68af84e66602",
   "metadata": {},
   "source": [
    "#### Exemple fictif "
   ]
  },
  {
   "cell_type": "code",
   "execution_count": 6,
   "id": "878b1b55",
   "metadata": {},
   "outputs": [
    {
     "ename": "ModuleNotFoundError",
     "evalue": "No module named '_loss'",
     "output_type": "error",
     "traceback": [
      "\u001b[1;31m---------------------------------------------------------------------------\u001b[0m",
      "\u001b[1;31mModuleNotFoundError\u001b[0m                       Traceback (most recent call last)",
      "Cell \u001b[1;32mIn[6], line 9\u001b[0m\n\u001b[0;32m      1\u001b[0m \u001b[38;5;66;03m# Si pas de valeurs de CR et BAE mettre 0 à la place \u001b[39;00m\n\u001b[0;32m      2\u001b[0m \u001b[38;5;66;03m# Les valeurs de R2 nous donne une indication sur l'accuracy \u001b[39;00m\n\u001b[0;32m      3\u001b[0m \n\u001b[1;32m   (...)\u001b[0m\n\u001b[0;32m      6\u001b[0m \u001b[38;5;66;03m#'fractal_dimension'=1.5\u001b[39;00m\n\u001b[0;32m      7\u001b[0m \u001b[38;5;66;03m#'fraction_of_coating'=0%\u001b[39;00m\n\u001b[1;32m----> 9\u001b[0m Predict_parameters(\u001b[38;5;241m0\u001b[39m, \u001b[38;5;241m-\u001b[39m\u001b[38;5;241m3.9\u001b[39m , \u001b[38;5;241m1.5\u001b[39m, \u001b[38;5;241m0\u001b[39m)\n",
      "Cell \u001b[1;32mIn[5], line 64\u001b[0m, in \u001b[0;36mPredict_parameters\u001b[1;34m(cr, bae, fractal_dimension, fraction_of_coating)\u001b[0m\n\u001b[0;32m     61\u001b[0m     \u001b[38;5;28;01mraise\u001b[39;00m \u001b[38;5;167;01mFileNotFoundError\u001b[39;00m(\u001b[38;5;124mf\u001b[39m\u001b[38;5;124m\"\u001b[39m\u001b[38;5;124mModèle pour \u001b[39m\u001b[38;5;124m'\u001b[39m\u001b[38;5;132;01m{\u001b[39;00mtarget\u001b[38;5;132;01m}\u001b[39;00m\u001b[38;5;124m'\u001b[39m\u001b[38;5;124m introuvable à \u001b[39m\u001b[38;5;132;01m{\u001b[39;00mmodel_path\u001b[38;5;132;01m}\u001b[39;00m\u001b[38;5;124m\"\u001b[39m)\n\u001b[0;32m     63\u001b[0m \u001b[38;5;66;03m# Chargement du modèle\u001b[39;00m\n\u001b[1;32m---> 64\u001b[0m model \u001b[38;5;241m=\u001b[39m load(model_path)\n\u001b[0;32m     65\u001b[0m \u001b[38;5;66;03m# Prédiction\u001b[39;00m\n\u001b[0;32m     66\u001b[0m predictions[target] \u001b[38;5;241m=\u001b[39m np\u001b[38;5;241m.\u001b[39mabs(model\u001b[38;5;241m.\u001b[39mpredict(input_data)[\u001b[38;5;241m0\u001b[39m]) \u001b[38;5;66;03m#ces valeurs doivent être positives \u001b[39;00m\n",
      "File \u001b[1;32m~\\anaconda3\\Lib\\site-packages\\joblib\\numpy_pickle.py:658\u001b[0m, in \u001b[0;36mload\u001b[1;34m(filename, mmap_mode)\u001b[0m\n\u001b[0;32m    652\u001b[0m             \u001b[38;5;28;01mif\u001b[39;00m \u001b[38;5;28misinstance\u001b[39m(fobj, \u001b[38;5;28mstr\u001b[39m):\n\u001b[0;32m    653\u001b[0m                 \u001b[38;5;66;03m# if the returned file object is a string, this means we\u001b[39;00m\n\u001b[0;32m    654\u001b[0m                 \u001b[38;5;66;03m# try to load a pickle file generated with an version of\u001b[39;00m\n\u001b[0;32m    655\u001b[0m                 \u001b[38;5;66;03m# Joblib so we load it with joblib compatibility function.\u001b[39;00m\n\u001b[0;32m    656\u001b[0m                 \u001b[38;5;28;01mreturn\u001b[39;00m load_compatibility(fobj)\n\u001b[1;32m--> 658\u001b[0m             obj \u001b[38;5;241m=\u001b[39m _unpickle(fobj, filename, mmap_mode)\n\u001b[0;32m    659\u001b[0m \u001b[38;5;28;01mreturn\u001b[39;00m obj\n",
      "File \u001b[1;32m~\\anaconda3\\Lib\\site-packages\\joblib\\numpy_pickle.py:577\u001b[0m, in \u001b[0;36m_unpickle\u001b[1;34m(fobj, filename, mmap_mode)\u001b[0m\n\u001b[0;32m    575\u001b[0m obj \u001b[38;5;241m=\u001b[39m \u001b[38;5;28;01mNone\u001b[39;00m\n\u001b[0;32m    576\u001b[0m \u001b[38;5;28;01mtry\u001b[39;00m:\n\u001b[1;32m--> 577\u001b[0m     obj \u001b[38;5;241m=\u001b[39m unpickler\u001b[38;5;241m.\u001b[39mload()\n\u001b[0;32m    578\u001b[0m     \u001b[38;5;28;01mif\u001b[39;00m unpickler\u001b[38;5;241m.\u001b[39mcompat_mode:\n\u001b[0;32m    579\u001b[0m         warnings\u001b[38;5;241m.\u001b[39mwarn(\u001b[38;5;124m\"\u001b[39m\u001b[38;5;124mThe file \u001b[39m\u001b[38;5;124m'\u001b[39m\u001b[38;5;132;01m%s\u001b[39;00m\u001b[38;5;124m'\u001b[39m\u001b[38;5;124m has been generated with a \u001b[39m\u001b[38;5;124m\"\u001b[39m\n\u001b[0;32m    580\u001b[0m                       \u001b[38;5;124m\"\u001b[39m\u001b[38;5;124mjoblib version less than 0.10. \u001b[39m\u001b[38;5;124m\"\u001b[39m\n\u001b[0;32m    581\u001b[0m                       \u001b[38;5;124m\"\u001b[39m\u001b[38;5;124mPlease regenerate this pickle file.\u001b[39m\u001b[38;5;124m\"\u001b[39m\n\u001b[0;32m    582\u001b[0m                       \u001b[38;5;241m%\u001b[39m filename,\n\u001b[0;32m    583\u001b[0m                       \u001b[38;5;167;01mDeprecationWarning\u001b[39;00m, stacklevel\u001b[38;5;241m=\u001b[39m\u001b[38;5;241m3\u001b[39m)\n",
      "File \u001b[1;32m~\\anaconda3\\Lib\\pickle.py:1213\u001b[0m, in \u001b[0;36m_Unpickler.load\u001b[1;34m(self)\u001b[0m\n\u001b[0;32m   1211\u001b[0m             \u001b[38;5;28;01mraise\u001b[39;00m \u001b[38;5;167;01mEOFError\u001b[39;00m\n\u001b[0;32m   1212\u001b[0m         \u001b[38;5;28;01massert\u001b[39;00m \u001b[38;5;28misinstance\u001b[39m(key, bytes_types)\n\u001b[1;32m-> 1213\u001b[0m         dispatch[key[\u001b[38;5;241m0\u001b[39m]](\u001b[38;5;28mself\u001b[39m)\n\u001b[0;32m   1214\u001b[0m \u001b[38;5;28;01mexcept\u001b[39;00m _Stop \u001b[38;5;28;01mas\u001b[39;00m stopinst:\n\u001b[0;32m   1215\u001b[0m     \u001b[38;5;28;01mreturn\u001b[39;00m stopinst\u001b[38;5;241m.\u001b[39mvalue\n",
      "File \u001b[1;32m~\\anaconda3\\Lib\\pickle.py:1538\u001b[0m, in \u001b[0;36m_Unpickler.load_stack_global\u001b[1;34m(self)\u001b[0m\n\u001b[0;32m   1536\u001b[0m \u001b[38;5;28;01mif\u001b[39;00m \u001b[38;5;28mtype\u001b[39m(name) \u001b[38;5;129;01mis\u001b[39;00m \u001b[38;5;129;01mnot\u001b[39;00m \u001b[38;5;28mstr\u001b[39m \u001b[38;5;129;01mor\u001b[39;00m \u001b[38;5;28mtype\u001b[39m(module) \u001b[38;5;129;01mis\u001b[39;00m \u001b[38;5;129;01mnot\u001b[39;00m \u001b[38;5;28mstr\u001b[39m:\n\u001b[0;32m   1537\u001b[0m     \u001b[38;5;28;01mraise\u001b[39;00m UnpicklingError(\u001b[38;5;124m\"\u001b[39m\u001b[38;5;124mSTACK_GLOBAL requires str\u001b[39m\u001b[38;5;124m\"\u001b[39m)\n\u001b[1;32m-> 1538\u001b[0m \u001b[38;5;28mself\u001b[39m\u001b[38;5;241m.\u001b[39mappend(\u001b[38;5;28mself\u001b[39m\u001b[38;5;241m.\u001b[39mfind_class(module, name))\n",
      "File \u001b[1;32m~\\anaconda3\\Lib\\pickle.py:1580\u001b[0m, in \u001b[0;36m_Unpickler.find_class\u001b[1;34m(self, module, name)\u001b[0m\n\u001b[0;32m   1578\u001b[0m     \u001b[38;5;28;01melif\u001b[39;00m module \u001b[38;5;129;01min\u001b[39;00m _compat_pickle\u001b[38;5;241m.\u001b[39mIMPORT_MAPPING:\n\u001b[0;32m   1579\u001b[0m         module \u001b[38;5;241m=\u001b[39m _compat_pickle\u001b[38;5;241m.\u001b[39mIMPORT_MAPPING[module]\n\u001b[1;32m-> 1580\u001b[0m \u001b[38;5;28m__import__\u001b[39m(module, level\u001b[38;5;241m=\u001b[39m\u001b[38;5;241m0\u001b[39m)\n\u001b[0;32m   1581\u001b[0m \u001b[38;5;28;01mif\u001b[39;00m \u001b[38;5;28mself\u001b[39m\u001b[38;5;241m.\u001b[39mproto \u001b[38;5;241m>\u001b[39m\u001b[38;5;241m=\u001b[39m \u001b[38;5;241m4\u001b[39m:\n\u001b[0;32m   1582\u001b[0m     \u001b[38;5;28;01mreturn\u001b[39;00m _getattribute(sys\u001b[38;5;241m.\u001b[39mmodules[module], name)[\u001b[38;5;241m0\u001b[39m]\n",
      "\u001b[1;31mModuleNotFoundError\u001b[0m: No module named '_loss'"
     ]
    }
   ],
   "source": [
    "# Si pas de valeurs de CR et BAE mettre 0 à la place \n",
    "# Les valeurs de R2 nous donne une indication sur l'accuracy \n",
    "\n",
    "#'cr'=0.6 \n",
    "#'bae'=-3.9\n",
    "#'fractal_dimension'=1.5\n",
    "#'fraction_of_coating'=0%\n",
    "\n",
    "Predict_parameters(0, -3.9 , 1.5, 0)"
   ]
  },
  {
   "cell_type": "markdown",
   "id": "896e86cb-6d90-434b-abc3-00a5a736f6cd",
   "metadata": {},
   "source": [
    "#### Exemple avec valeurs du jeu de données "
   ]
  },
  {
   "cell_type": "code",
   "execution_count": 64,
   "id": "c60a7508-5e17-4bbc-834d-47508a31199b",
   "metadata": {},
   "outputs": [
    {
     "data": {
      "text/plain": [
       "({'primary_particle_size (nm)': 16.899999998433167,\n",
       "  'vol_equi_radius_outer (nm)': 93.7815555907205,\n",
       "  'vol_equi_radius_inner (nm)': 82.80940847534984,\n",
       "  'equi_mobility_dia (nm)': 372.22824042147596,\n",
       "  'mass_bc (g)': 4.065502164008171e-15},\n",
       " {'R2 primary_particle_size (nm)': 1,\n",
       "  'R2 vol_equi_radius_outer (nm)': 0.916,\n",
       "  'R2 vol_equi_radius_inner (nm)': 0.924,\n",
       "  'R2 equi_mobility_dia (nm)': 0.912,\n",
       "  'R2 mass_bc (g)': 0.54})"
      ]
     },
     "execution_count": 64,
     "metadata": {},
     "output_type": "execute_result"
    }
   ],
   "source": [
    "cr=0.66628753296408\n",
    "bae= -3.20854360536531\n",
    "fractal_dimension=1.7\n",
    "fraction_of_coating =40 #%\n",
    "\n",
    "Predict_parameters(cr, bae ,fractal_dimension , fraction_of_coating)\n",
    "\n",
    "# On attent \n",
    "# primary_particle_size (nm) = 17,8 \n",
    "#'vol_equi_radius_outer (nm)' = 165\n",
    "# vol_equi_radius_inner (nm) = 139 \n",
    "# equi_mobility_dia (nm) = 855\n",
    "# mass_bc (g)' = 1,7 e-14"
   ]
  },
  {
   "cell_type": "code",
   "execution_count": null,
   "id": "70a0200a-536a-4f00-8be7-73a1215821ec",
   "metadata": {},
   "outputs": [],
   "source": [
    "cr=0.697442625\n",
    "bae= -2,847423437\n",
    "fractal_dimension=1.5\n",
    "fraction_of_coating =15 #%\n",
    "\n",
    "Predict_parameters(cr, bae ,fractal_dimension , fraction_of_coating)\n",
    "\n",
    "# On attent \n",
    "# primary_particle_size (nm) = 15,8\n",
    "#'vol_equi_radius_outer (nm)' = 116,4153954\n",
    "# vol_equi_radius_inner (nm) = 110,520945 \n",
    "# equi_mobility_dia (nm) = 533,007323\n",
    "# mass_bc (g)' = 8,48E-15"
   ]
  },
  {
   "cell_type": "code",
   "execution_count": null,
   "id": "cd2b37a0",
   "metadata": {},
   "outputs": [],
   "source": [
    "cr=0,606022585\n",
    "bae= -3,957699995\n",
    "fractal_dimension=1.7\n",
    "fraction_of_coating =0 #%\n",
    "\n",
    "Predict_parameters(cr, bae ,fractal_dimension , fraction_of_coating)\n",
    "\n",
    "# On attent \n",
    "# primary_particle_size (nm) = 16,2\n",
    "#'vol_equi_radius_outer (nm)' = 12,85794852\n",
    "# vol_equi_radius_inner (nm) = 11,90550789\n",
    "# equi_mobility_dia (nm) = 18,07237419\n",
    "# mass_bc (g)' =1,06E-17"
   ]
  },
  {
   "cell_type": "code",
   "execution_count": null,
   "id": "5d3fa60e",
   "metadata": {},
   "outputs": [],
   "source": [
    "cr=0,582127917\n",
    "bae= -4,275580337\n",
    "fractal_dimension=1,9\n",
    "fraction_of_coating =30 #%\n",
    "\n",
    "Predict_parameters(cr, bae ,fractal_dimension , fraction_of_coating)\n",
    "\n",
    "# On attent \n",
    "# primary_particle_size (nm) =16,9\n",
    "#'vol_equi_radius_outer (nm)' = 35,15341661\n",
    "# vol_equi_radius_inner (nm) = 31,20125735\n",
    "# equi_mobility_dia (nm) = 82,33336731\n",
    "# mass_bc (g)' = 1,91E-16"
   ]
  }
 ],
 "metadata": {
  "kernelspec": {
   "display_name": "Python 3 (ipykernel)",
   "language": "python",
   "name": "python3"
  },
  "language_info": {
   "codemirror_mode": {
    "name": "ipython",
    "version": 3
   },
   "file_extension": ".py",
   "mimetype": "text/x-python",
   "name": "python",
   "nbconvert_exporter": "python",
   "pygments_lexer": "ipython3",
   "version": "3.11.5"
  }
 },
 "nbformat": 4,
 "nbformat_minor": 5
}
